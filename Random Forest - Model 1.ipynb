{
 "cells": [
  {
   "cell_type": "code",
   "execution_count": 1,
   "metadata": {
    "id": "wCZKBtOCxxXp"
   },
   "outputs": [],
   "source": [
    "import matplotlib.pyplot as plt\n",
    "import seaborn as sns\n",
    "import numpy as np\n",
    "from PIL import Image\n",
    "\n",
    "%matplotlib inline\n",
    "from matplotlib.image import imread"
   ]
  },
  {
   "cell_type": "markdown",
   "metadata": {
    "id": "yUK5rGnSv7l8"
   },
   "source": [
    "# Split images into testing, training and validation folder\n",
    "\n"
   ]
  },
  {
   "cell_type": "code",
   "execution_count": 2,
   "metadata": {
    "id": "H1yWDLuMHoaJ"
   },
   "outputs": [],
   "source": [
    "import os\n",
    "import numpy as np\n",
    "import shutil\n",
    "import random\n",
    "\n",
    "dataset_dir = '/content/drive/MyDrive/Assignment/medical_mask_selfie/' # data root path\n",
    "FOLDER_NAME = [] #total labels\n",
    "\n",
    "val_ratio = 0.20\n",
    "train_ratio = 0.60\n",
    "\n",
    "\n",
    "for i in range(1,162) :\n",
    "    FOLDER_NAME.append(str(i))\n",
    "print (FOLDER_NAME)\n",
    "\n",
    "for class_num in FOLDER_NAME:\n",
    "\n",
    "    if os.path.exists(dataset_dir +'training_datas/' + class_num) :\n",
    "        print(\"Done\")\n",
    "    else :\n",
    "        try :\n",
    "            os.makedirs(dataset_dir +'training_datas/' + class_num)\n",
    "            os.makedirs(dataset_dir +'validation_datas/' + class_num)\n",
    "            os.makedirs(dataset_dir +'testing_datas/' + class_num)\n",
    "        except : \n",
    "            pass\n",
    "\n",
    "        class_path = dataset_dir + class_num # Folder to copy images from\n",
    "\n",
    "        all_file = os.listdir(class_path)\n",
    "        np.random.shuffle(all_file)\n",
    "        train_file, val_file, test_file = np.split(np.array(all_file),\n",
    "                                                   [int(len(all_file)* train_ratio), \n",
    "                                                   int(len(all_file)* (1 - val_ratio))])\n",
    "\n",
    "\n",
    "        train_file = [class_path +'/'+ name for name in train_file.tolist()]\n",
    "        val_file = [class_path +'/' + name for name in val_file.tolist()]\n",
    "        test_file = [class_path +'/' + name for name in test_file.tolist()]\n",
    "\n",
    "\n",
    "        # Copy-pasting images\n",
    "\n",
    "        for name in train_file:\n",
    "            shutil.copy(name, dataset_dir +'training_datas/' + class_num)\n",
    "\n",
    "        for name in val_file:\n",
    "            shutil.copy(name, dataset_dir +'validation_datas/' + class_num)\n",
    "\n",
    "        for name in test_file:\n",
    "            shutil.copy(name, dataset_dir +'testing_datas/' + class_num)\n",
    "\n",
    "        print('Total images: ', len(all_file))\n",
    "        print('Training: ', len(train_file))\n",
    "        print('Validation: ', len(val_file))\n",
    "        print('Testing: ', len(test_file))\n"
   ]
  },
  {
   "cell_type": "markdown",
   "metadata": {
    "id": "Rs8O5_l4v9XH"
   },
   "source": [
    "### Load training data"
   ]
  },
  {
   "cell_type": "code",
   "execution_count": 3,
   "metadata": {
    "id": "e1jyI0XfwCt6"
   },
   "outputs": [],
   "source": [
    "# import os\n",
    "# import cv2\n",
    "\n",
    "# train_images = []\n",
    "# train_label = []\n",
    "# FOLDER_NAME = []\n",
    "# DATADIR = \"/content/drive/MyDrive/Assignment/medical_mask_selfie/training_datas/\"\n",
    "\n",
    "\n",
    "# for i in range(0,161) :\n",
    "#     FOLDER_NAME.append(str(i))\n",
    "# print (FOLDER_NAME)\n",
    "\n",
    "# def load_train_images(folder,i):\n",
    "#       for filename in os.listdir(folder):\n",
    "#           if any([filename.endswith(x) for x in ['.jpeg', '.jpg']]):\n",
    "#             img = imread(os.path.join(folder, filename))\n",
    "#             resized_image = cv2.resize(img,(64,48))\n",
    "#             if resized_image is not None:\n",
    "#               train_images.append(resized_image)\n",
    "#               train_label.append(i)\n",
    "#       return train_images, train_label\n",
    "\n",
    "# for i in range(0,161): #change to 162\n",
    "#     folders = \"/content/drive/MyDrive/Assignment/medical_mask_selfie/training_datas/\" + str(i+1) #change folder name\n",
    "#     training_images= load_train_images(folders,i)\n",
    "#     print(\"Done\", i)"
   ]
  },
  {
   "cell_type": "markdown",
   "metadata": {
    "id": "Df2iERKBuvaR"
   },
   "source": [
    "### Load testing data"
   ]
  },
  {
   "cell_type": "code",
   "execution_count": 4,
   "metadata": {
    "id": "ZYOAx0ucu4qT"
   },
   "outputs": [],
   "source": [
    "# import os\n",
    "# import cv2\n",
    "\n",
    "# test_images = []\n",
    "# test_label = []\n",
    "# FOLDER_NAME = []\n",
    "# DATADIR = \"/content/drive/MyDrive/Assignment/medical_mask_selfie/testing_datas/\"\n",
    "\n",
    "\n",
    "# for i in range(0,161) :\n",
    "#     FOLDER_NAME.append(str(i))\n",
    "# print (FOLDER_NAME)\n",
    "\n",
    "# def load_test_images(folder,i):\n",
    "#       for filename in os.listdir(folder):\n",
    "#           if any([filename.endswith(x) for x in ['.jpeg', '.jpg']]):\n",
    "#             img = imread(os.path.join(folder, filename))\n",
    "#             resized_image = cv2.resize(img,(64,48))\n",
    "#             if resized_image is not None:\n",
    "#               test_images.append(resized_image)\n",
    "#               test_label.append(i)\n",
    "#       return test_images, test_label\n",
    "\n",
    "# for i in range(0,161): #change to 162\n",
    "#     folders = \"/content/drive/MyDrive/Assignment/medical_mask_selfie/testing_datas/\" + str(i+1) #change folder name\n",
    "#     testing_images= load_test_images(folders,i)\n",
    "#     print(\"Done\", i)"
   ]
  },
  {
   "cell_type": "markdown",
   "metadata": {
    "id": "kUpxsC7pu744"
   },
   "source": [
    "### Load validation data"
   ]
  },
  {
   "cell_type": "code",
   "execution_count": 5,
   "metadata": {
    "id": "c70gowT3vBHS"
   },
   "outputs": [],
   "source": [
    "# import os\n",
    "# import cv2\n",
    "\n",
    "# valid_images = []\n",
    "# validation_label = []\n",
    "# FOLDER_NAME = []\n",
    "# DATADIR = \"/content/drive/MyDrive/Assignment/medical_mask_selfie/validation_datas/\"\n",
    "\n",
    "\n",
    "# for i in range(0,161) :\n",
    "#     FOLDER_NAME.append(str(i))\n",
    "# print (FOLDER_NAME)\n",
    "\n",
    "# def load_validation_images(folder,i):\n",
    "#       for filename in os.listdir(folder):\n",
    "#           if any([filename.endswith(x) for x in ['.jpeg', '.jpg']]):\n",
    "#             img = imread(os.path.join(folder, filename))\n",
    "#             resized_image = cv2.resize(img,(64,48))\n",
    "#             if resized_image is not None:\n",
    "#               valid_images.append(resized_image)\n",
    "#               validation_label.append(i)\n",
    "#       return valid_images, validation_label\n",
    "\n",
    "# for i in range(0,161): #change to 162\n",
    "#     folders = \"/content/drive/MyDrive/Assignment/medical_mask_selfie/validation_datas/\" + str(i+1) #change folder name\n",
    "#     validation_images= load_validation_images(folders,i)\n",
    "#     print(\"Done\", i)"
   ]
  },
  {
   "cell_type": "markdown",
   "metadata": {
    "id": "4dTYWSORvPwf"
   },
   "source": [
    "### Import data and convert training,testing and validation list to numpy array"
   ]
  },
  {
   "cell_type": "code",
   "execution_count": 6,
   "metadata": {
    "colab": {
     "base_uri": "https://localhost:8080/"
    },
    "id": "05Ll6dm_vTq5",
    "outputId": "9d0cf8c4-6a79-44e1-c546-b2638df3a79b"
   },
   "outputs": [
    {
     "data": {
      "text/plain": [
       "<HDF5 dataset \"train_dataset\": shape (48300, 48, 64, 3), type \"|u1\">"
      ]
     },
     "execution_count": 6,
     "metadata": {},
     "output_type": "execute_result"
    }
   ],
   "source": [
    "import h5py\n",
    "train_set = h5py.File('C:/Users/60165/Downloads/training.h5', 'r') #rmb to close file test_set.close()\n",
    "X_train = train_set.get('train_dataset')\n",
    "X_train"
   ]
  },
  {
   "cell_type": "code",
   "execution_count": 7,
   "metadata": {
    "colab": {
     "base_uri": "https://localhost:8080/"
    },
    "id": "W8BGSQHVapBh",
    "outputId": "094e7393-a61e-41fe-fd8b-f8f247b92c51"
   },
   "outputs": [
    {
     "data": {
      "text/plain": [
       "(48300, 48, 64, 3)"
      ]
     },
     "execution_count": 7,
     "metadata": {},
     "output_type": "execute_result"
    }
   ],
   "source": [
    "X_train = np.array(X_train)\n",
    "X_train.shape"
   ]
  },
  {
   "cell_type": "code",
   "execution_count": 8,
   "metadata": {
    "colab": {
     "base_uri": "https://localhost:8080/"
    },
    "id": "h3n9FgGFvXfj",
    "outputId": "7a0aba80-df22-4228-9d85-5c9991b2c9e9"
   },
   "outputs": [
    {
     "data": {
      "text/plain": [
       "<HDF5 dataset \"training_label_dataset\": shape (48300,), type \"<i4\">"
      ]
     },
     "execution_count": 8,
     "metadata": {},
     "output_type": "execute_result"
    }
   ],
   "source": [
    "train_labels = h5py.File('C:/Users/60165/Downloads/training_label.h5', 'r')\n",
    "y_train = train_labels.get('training_label_dataset')\n",
    "y_train"
   ]
  },
  {
   "cell_type": "code",
   "execution_count": 9,
   "metadata": {
    "colab": {
     "base_uri": "https://localhost:8080/"
    },
    "id": "PeOMmfyXYqX3",
    "outputId": "0f13e4cb-c867-40e8-cc17-aa8d513f443b"
   },
   "outputs": [
    {
     "data": {
      "text/plain": [
       "<HDF5 dataset \"test_dataset\": shape (16100, 48, 64, 3), type \"|u1\">"
      ]
     },
     "execution_count": 9,
     "metadata": {},
     "output_type": "execute_result"
    }
   ],
   "source": [
    "test_set = h5py.File('C:/Users/60165/Downloads/test.h5', 'r')\n",
    "X_test= test_set.get('test_dataset')\n",
    "X_test"
   ]
  },
  {
   "cell_type": "code",
   "execution_count": 10,
   "metadata": {
    "colab": {
     "base_uri": "https://localhost:8080/"
    },
    "id": "xzUz8tvDvZDO",
    "outputId": "aca05d7b-337c-4337-e04d-c522cefe25a2"
   },
   "outputs": [
    {
     "data": {
      "text/plain": [
       "<HDF5 dataset \"testing_label_dataset\": shape (16100,), type \"<i4\">"
      ]
     },
     "execution_count": 10,
     "metadata": {},
     "output_type": "execute_result"
    }
   ],
   "source": [
    "test_labels = h5py.File('C:/Users/60165/Downloads/testing_label.h5', 'r')\n",
    "y_test = test_labels.get('testing_label_dataset')\n",
    "y_test"
   ]
  },
  {
   "cell_type": "code",
   "execution_count": 11,
   "metadata": {
    "colab": {
     "base_uri": "https://localhost:8080/"
    },
    "id": "0t1CGjNzaR3K",
    "outputId": "a409807e-1371-4636-a82b-74f5c66872e4"
   },
   "outputs": [
    {
     "data": {
      "text/plain": [
       "<HDF5 dataset \"validation_dataset\": shape (16100, 48, 64, 3), type \"|u1\">"
      ]
     },
     "execution_count": 11,
     "metadata": {},
     "output_type": "execute_result"
    }
   ],
   "source": [
    "validation_set = h5py.File('C:/Users/60165/Downloads/validation.h5', 'r')\n",
    "X_validation= validation_set.get('validation_dataset')\n",
    "X_validation"
   ]
  },
  {
   "cell_type": "code",
   "execution_count": 12,
   "metadata": {
    "colab": {
     "base_uri": "https://localhost:8080/"
    },
    "id": "jSG_NIYNbDT5",
    "outputId": "e87c29fb-3e9e-48dc-88fc-95fc95379380"
   },
   "outputs": [
    {
     "data": {
      "text/plain": [
       "<HDF5 dataset \"validation_label_dataset\": shape (16100,), type \"<i4\">"
      ]
     },
     "execution_count": 12,
     "metadata": {},
     "output_type": "execute_result"
    }
   ],
   "source": [
    "validation_labels = h5py.File('C:/Users/60165/Downloads/validation_label.h5', 'r')\n",
    "y_validation = validation_labels.get('validation_label_dataset')\n",
    "y_validation"
   ]
  },
  {
   "cell_type": "code",
   "execution_count": 13,
   "metadata": {
    "colab": {
     "base_uri": "https://localhost:8080/"
    },
    "id": "rsl6YsL3VOxI",
    "outputId": "d298ecb0-f82c-4c4e-b9a6-780495ba087b"
   },
   "outputs": [
    {
     "data": {
      "text/plain": [
       "(16100, 48, 64, 3)"
      ]
     },
     "execution_count": 13,
     "metadata": {},
     "output_type": "execute_result"
    }
   ],
   "source": [
    "X_test = np.array(X_test)\n",
    "X_validation = np.array(X_validation)\n",
    "X_validation.shape"
   ]
  },
  {
   "cell_type": "code",
   "execution_count": 14,
   "metadata": {
    "colab": {
     "base_uri": "https://localhost:8080/"
    },
    "id": "DvzlGSLha2pY",
    "outputId": "0976def8-9bbe-4607-9ef9-f75e823ecc59"
   },
   "outputs": [
    {
     "data": {
      "text/plain": [
       "(16100,)"
      ]
     },
     "execution_count": 14,
     "metadata": {},
     "output_type": "execute_result"
    }
   ],
   "source": [
    "y_train_numpy = np.array(y_train)\n",
    "y_test_numpy = np.array(y_test)\n",
    "y_validation_numpy = np.array(y_validation)\n",
    "y_test_numpy.shape"
   ]
  },
  {
   "cell_type": "markdown",
   "metadata": {
    "id": "4g-6Nr8VvfUm"
   },
   "source": [
    "### One Hot Encoding\n"
   ]
  },
  {
   "cell_type": "code",
   "execution_count": 15,
   "metadata": {
    "id": "CV4IMO-Aviac"
   },
   "outputs": [],
   "source": [
    "#one hot encode y_train \n",
    "classes = 161\n",
    "y_train = np.eye(classes)[y_train_numpy]"
   ]
  },
  {
   "cell_type": "code",
   "execution_count": 16,
   "metadata": {
    "colab": {
     "base_uri": "https://localhost:8080/"
    },
    "id": "eg0wxeChvkJ6",
    "outputId": "9a3323db-6d03-4490-8a52-7c302061dc79"
   },
   "outputs": [
    {
     "data": {
      "text/plain": [
       "array([[1., 0., 0., ..., 0., 0., 0.],\n",
       "       [1., 0., 0., ..., 0., 0., 0.],\n",
       "       [1., 0., 0., ..., 0., 0., 0.],\n",
       "       ...,\n",
       "       [0., 0., 0., ..., 0., 0., 1.],\n",
       "       [0., 0., 0., ..., 0., 0., 1.],\n",
       "       [0., 0., 0., ..., 0., 0., 1.]])"
      ]
     },
     "execution_count": 16,
     "metadata": {},
     "output_type": "execute_result"
    }
   ],
   "source": [
    "y_train"
   ]
  },
  {
   "cell_type": "code",
   "execution_count": 17,
   "metadata": {
    "id": "1Cwe0godvs_v"
   },
   "outputs": [],
   "source": [
    "#one hot encode y_test\n",
    "classes = 161\n",
    "y_test = np.eye(classes)[y_test_numpy]"
   ]
  },
  {
   "cell_type": "code",
   "execution_count": 18,
   "metadata": {
    "colab": {
     "base_uri": "https://localhost:8080/"
    },
    "id": "trHps4EcvtF9",
    "outputId": "a116765f-d2a2-4e2a-cc71-4de619e752d1"
   },
   "outputs": [
    {
     "data": {
      "text/plain": [
       "array([[1., 0., 0., ..., 0., 0., 0.],\n",
       "       [1., 0., 0., ..., 0., 0., 0.],\n",
       "       [1., 0., 0., ..., 0., 0., 0.],\n",
       "       ...,\n",
       "       [0., 0., 0., ..., 0., 0., 1.],\n",
       "       [0., 0., 0., ..., 0., 0., 1.],\n",
       "       [0., 0., 0., ..., 0., 0., 1.]])"
      ]
     },
     "execution_count": 18,
     "metadata": {},
     "output_type": "execute_result"
    }
   ],
   "source": [
    "y_test"
   ]
  },
  {
   "cell_type": "code",
   "execution_count": 19,
   "metadata": {
    "id": "M1ChWv8OvtQ_"
   },
   "outputs": [],
   "source": [
    "#one hot encode y_validation\n",
    "classes = 161\n",
    "y_validation = np.eye(classes)[y_validation_numpy]"
   ]
  },
  {
   "cell_type": "code",
   "execution_count": 20,
   "metadata": {
    "colab": {
     "base_uri": "https://localhost:8080/"
    },
    "id": "AvZAbt-SvyVk",
    "outputId": "3ab30775-87a2-4bbf-d917-ead2575c8191"
   },
   "outputs": [
    {
     "data": {
      "text/plain": [
       "array([[1., 0., 0., ..., 0., 0., 0.],\n",
       "       [1., 0., 0., ..., 0., 0., 0.],\n",
       "       [1., 0., 0., ..., 0., 0., 0.],\n",
       "       ...,\n",
       "       [0., 0., 0., ..., 0., 0., 1.],\n",
       "       [0., 0., 0., ..., 0., 0., 1.],\n",
       "       [0., 0., 0., ..., 0., 0., 1.]])"
      ]
     },
     "execution_count": 20,
     "metadata": {},
     "output_type": "execute_result"
    }
   ],
   "source": [
    "y_validation"
   ]
  },
  {
   "cell_type": "markdown",
   "metadata": {
    "id": "vk6MTXy0vp9Z"
   },
   "source": [
    "### CrossCheck our data"
   ]
  },
  {
   "cell_type": "code",
   "execution_count": 21,
   "metadata": {
    "colab": {
     "base_uri": "https://localhost:8080/",
     "height": 284
    },
    "id": "gt6BEAZVv5rV",
    "outputId": "481298b3-2cb7-4466-fc61-ddb552a856d9"
   },
   "outputs": [
    {
     "data": {
      "text/plain": [
       "<matplotlib.image.AxesImage at 0x19c1bbc4670>"
      ]
     },
     "execution_count": 21,
     "metadata": {},
     "output_type": "execute_result"
    },
    {
     "data": {
      "image/png": "[encoded data removed]",
      "text/plain": [
       "<Figure size 432x288 with 1 Axes>"
      ]
     },
     "metadata": {
      "needs_background": "light"
     },
     "output_type": "display_data"
    }
   ],
   "source": [
    "plt.imshow(X_train[350])"
   ]
  },
  {
   "cell_type": "code",
   "execution_count": 22,
   "metadata": {
    "colab": {
     "base_uri": "https://localhost:8080/"
    },
    "id": "n4e5iz8Zv7l9",
    "outputId": "b3e1fafd-6a69-4fc6-927b-8747edc0866d"
   },
   "outputs": [
    {
     "data": {
      "text/plain": [
       "array([0., 1., 0., 0., 0., 0., 0., 0., 0., 0., 0., 0., 0., 0., 0., 0., 0.,\n",
       "       0., 0., 0., 0., 0., 0., 0., 0., 0., 0., 0., 0., 0., 0., 0., 0., 0.,\n",
       "       0., 0., 0., 0., 0., 0., 0., 0., 0., 0., 0., 0., 0., 0., 0., 0., 0.,\n",
       "       0., 0., 0., 0., 0., 0., 0., 0., 0., 0., 0., 0., 0., 0., 0., 0., 0.,\n",
       "       0., 0., 0., 0., 0., 0., 0., 0., 0., 0., 0., 0., 0., 0., 0., 0., 0.,\n",
       "       0., 0., 0., 0., 0., 0., 0., 0., 0., 0., 0., 0., 0., 0., 0., 0., 0.,\n",
       "       0., 0., 0., 0., 0., 0., 0., 0., 0., 0., 0., 0., 0., 0., 0., 0., 0.,\n",
       "       0., 0., 0., 0., 0., 0., 0., 0., 0., 0., 0., 0., 0., 0., 0., 0., 0.,\n",
       "       0., 0., 0., 0., 0., 0., 0., 0., 0., 0., 0., 0., 0., 0., 0., 0., 0.,\n",
       "       0., 0., 0., 0., 0., 0., 0., 0.])"
      ]
     },
     "execution_count": 22,
     "metadata": {},
     "output_type": "execute_result"
    }
   ],
   "source": [
    "y_train[350]"
   ]
  },
  {
   "cell_type": "markdown",
   "metadata": {
    "id": "KOcR2Yz3v9oo"
   },
   "source": [
    "### **Pre-Processing Images**"
   ]
  },
  {
   "cell_type": "code",
   "execution_count": 23,
   "metadata": {
    "id": "cN5ZBq_mwBiN"
   },
   "outputs": [],
   "source": [
    "X_train = X_train[:]/255\n",
    "X_test = X_test[:]/255\n",
    "X_validation = X_validation[:]/255"
   ]
  },
  {
   "cell_type": "code",
   "execution_count": 24,
   "metadata": {
    "colab": {
     "base_uri": "https://localhost:8080/"
    },
    "id": "MRzuguB2wBqQ",
    "outputId": "e2dde87f-94b6-40fd-9097-773140b52a66"
   },
   "outputs": [
    {
     "data": {
      "text/plain": [
       "(48300, 48, 64, 3)"
      ]
     },
     "execution_count": 24,
     "metadata": {},
     "output_type": "execute_result"
    }
   ],
   "source": [
    "X_train.shape"
   ]
  },
  {
   "cell_type": "code",
   "execution_count": 25,
   "metadata": {
    "colab": {
     "base_uri": "https://localhost:8080/"
    },
    "id": "NWSi2NwnkNn2",
    "outputId": "d2878b85-34e0-482e-8ad3-e34fccf0a067"
   },
   "outputs": [
    {
     "data": {
      "text/plain": [
       "(16100, 48, 64, 3)"
      ]
     },
     "execution_count": 25,
     "metadata": {},
     "output_type": "execute_result"
    }
   ],
   "source": [
    "X_validation.shape"
   ]
  },
  {
   "cell_type": "code",
   "execution_count": 26,
   "metadata": {
    "id": "uXnFz65ywB5k"
   },
   "outputs": [],
   "source": [
    "#Reshape it to 2D\n",
    "X_train = X_train.reshape(48300, 48*64*3)\n",
    "X_test = X_test.reshape(16100, 48*64*3)\n",
    "X_validation = X_validation.reshape(16100, 48*64*3)"
   ]
  },
  {
   "cell_type": "markdown",
   "metadata": {
    "id": "kQsiHD1swO9h"
   },
   "source": [
    "## **Random Forest**"
   ]
  },
  {
   "cell_type": "markdown",
   "metadata": {
    "id": "V3B50RxBw5UK"
   },
   "source": [
    "### **Random Forest (Model 1)**"
   ]
  },
  {
   "cell_type": "code",
   "execution_count": 31,
   "metadata": {
    "colab": {
     "base_uri": "https://localhost:8080/",
     "height": 182
    },
    "id": "piMtaySCnzof",
    "outputId": "a3301c48-880d-4b84-b9b7-38f5bef9e552"
   },
   "outputs": [
    {
     "data": {
      "text/plain": [
       "RandomForestClassifier(random_state=42)"
      ]
     },
     "execution_count": 31,
     "metadata": {},
     "output_type": "execute_result"
    }
   ],
   "source": [
    "model1 = RandomForestClassifier(n_estimators = 100 , random_state = 42) #(no of trees, random_state = set)\n",
    "model1.fit(X_train, y_train)"
   ]
  },
  {
   "cell_type": "code",
   "execution_count": 38,
   "metadata": {
    "id": "xm6rmt10bm9Z"
   },
   "outputs": [],
   "source": [
    "pred_1 = model1.predict(X_validation) "
   ]
  },
  {
   "cell_type": "code",
   "execution_count": 43,
   "metadata": {
    "id": "O9jkWDieb-r5"
   },
   "outputs": [
    {
     "name": "stdout",
     "output_type": "stream",
     "text": [
      "MODEL 1 PERFORMANCE\n",
      "Confusion Matrix\n",
      "\n",
      " [[100   0   0 ...   0   0   0]\n",
      " [ 33  67   0 ...   0   0   0]\n",
      " [ 23   0  77 ...   0   0   0]\n",
      " ...\n",
      " [100   0   0 ...   0   0   0]\n",
      " [ 99   0   0 ...   0   1   0]\n",
      " [100   0   0 ...   0   0   0]]\n",
      "              precision    recall  f1-score   support\n",
      "\n",
      "           0       1.00      0.69      0.82       100\n",
      "           1       1.00      0.67      0.80       100\n",
      "           2       1.00      0.77      0.87       100\n",
      "           3       1.00      0.87      0.93       100\n",
      "           4       1.00      0.85      0.92       100\n",
      "           5       1.00      0.35      0.52       100\n",
      "           6       1.00      0.30      0.46       100\n",
      "           7       1.00      0.38      0.55       100\n",
      "           8       1.00      0.33      0.50       100\n",
      "           9       1.00      0.05      0.10       100\n",
      "          10       1.00      0.11      0.20       100\n",
      "          11       1.00      0.34      0.51       100\n",
      "          12       0.00      0.00      0.00       100\n",
      "          13       1.00      0.02      0.04       100\n",
      "          14       1.00      0.70      0.82       100\n",
      "          15       1.00      0.16      0.28       100\n",
      "          16       1.00      0.02      0.04       100\n",
      "          17       1.00      0.17      0.29       100\n",
      "          18       1.00      0.80      0.89       100\n",
      "          19       1.00      0.78      0.88       100\n",
      "          20       1.00      0.95      0.97       100\n",
      "          21       0.00      0.00      0.00       100\n",
      "          22       1.00      0.43      0.60       100\n",
      "          23       1.00      0.28      0.44       100\n",
      "          24       1.00      0.21      0.35       100\n",
      "          25       1.00      0.56      0.72       100\n",
      "          26       1.00      0.39      0.56       100\n",
      "          27       1.00      0.97      0.98       100\n",
      "          28       1.00      0.62      0.77       100\n",
      "          29       0.00      0.00      0.00       100\n",
      "          30       1.00      1.00      1.00       100\n",
      "          31       1.00      0.18      0.31       100\n",
      "          32       1.00      1.00      1.00       100\n",
      "          33       1.00      0.56      0.72       100\n",
      "          34       1.00      0.07      0.13       100\n",
      "          35       0.00      0.00      0.00       100\n",
      "          36       1.00      0.22      0.36       100\n",
      "          37       1.00      0.27      0.43       100\n",
      "          38       1.00      0.06      0.11       100\n",
      "          39       1.00      0.01      0.02       100\n",
      "          40       1.00      0.64      0.78       100\n",
      "          41       1.00      0.97      0.98       100\n",
      "          42       1.00      0.88      0.94       100\n",
      "          43       1.00      0.33      0.50       100\n",
      "          44       1.00      0.47      0.64       100\n",
      "          45       1.00      0.11      0.20       100\n",
      "          46       1.00      0.80      0.89       100\n",
      "          47       1.00      0.05      0.10       100\n",
      "          48       1.00      0.92      0.96       100\n",
      "          49       1.00      0.50      0.67       100\n",
      "          50       0.00      0.00      0.00       100\n",
      "          51       1.00      0.01      0.02       100\n",
      "          52       1.00      0.07      0.13       100\n",
      "          53       1.00      0.02      0.04       100\n",
      "          54       0.00      0.00      0.00       100\n",
      "          55       1.00      0.03      0.06       100\n",
      "          56       1.00      0.02      0.04       100\n",
      "          57       0.00      0.00      0.00       100\n",
      "          58       0.00      0.00      0.00       100\n",
      "          59       1.00      0.03      0.06       100\n",
      "          60       1.00      0.31      0.47       100\n",
      "          61       1.00      0.20      0.33       100\n",
      "          62       1.00      0.22      0.36       100\n",
      "          63       1.00      0.27      0.43       100\n",
      "          64       1.00      0.74      0.85       100\n",
      "          65       1.00      0.01      0.02       100\n",
      "          66       1.00      0.50      0.67       100\n",
      "          67       1.00      0.61      0.76       100\n",
      "          68       1.00      0.02      0.04       100\n",
      "          69       1.00      0.43      0.60       100\n",
      "          70       0.00      0.00      0.00       100\n",
      "          71       1.00      0.11      0.20       100\n",
      "          72       1.00      0.09      0.17       100\n",
      "          73       1.00      0.95      0.97       100\n",
      "          74       1.00      0.86      0.92       100\n",
      "          75       1.00      0.63      0.77       100\n",
      "          76       1.00      0.21      0.35       100\n",
      "          77       1.00      0.43      0.60       100\n",
      "          78       1.00      0.52      0.68       100\n",
      "          79       1.00      0.03      0.06       100\n",
      "          80       1.00      0.96      0.98       100\n",
      "          81       1.00      0.50      0.67       100\n",
      "          82       1.00      0.46      0.63       100\n",
      "          83       1.00      0.87      0.93       100\n",
      "          84       1.00      0.05      0.10       100\n",
      "          85       1.00      0.31      0.47       100\n",
      "          86       1.00      0.24      0.39       100\n",
      "          87       1.00      0.22      0.36       100\n",
      "          88       1.00      0.44      0.61       100\n",
      "          89       1.00      0.13      0.23       100\n",
      "          90       1.00      0.84      0.91       100\n",
      "          91       1.00      0.23      0.37       100\n",
      "          92       0.00      0.00      0.00       100\n",
      "          93       1.00      0.88      0.94       100\n",
      "          94       1.00      0.05      0.10       100\n",
      "          95       1.00      0.01      0.02       100\n",
      "          96       1.00      0.10      0.18       100\n",
      "          97       1.00      0.82      0.90       100\n",
      "          98       1.00      0.72      0.84       100\n",
      "          99       1.00      0.40      0.57       100\n",
      "         100       1.00      0.33      0.50       100\n",
      "         101       1.00      0.31      0.47       100\n",
      "         102       1.00      0.69      0.82       100\n",
      "         103       1.00      0.22      0.36       100\n",
      "         104       1.00      0.43      0.60       100\n",
      "         105       1.00      0.09      0.17       100\n",
      "         106       1.00      0.64      0.78       100\n",
      "         107       1.00      0.04      0.08       100\n",
      "         108       1.00      0.41      0.58       100\n",
      "         109       1.00      0.07      0.13       100\n",
      "         110       1.00      0.17      0.29       100\n",
      "         111       1.00      0.77      0.87       100\n",
      "         112       1.00      0.52      0.68       100\n",
      "         113       1.00      0.35      0.52       100\n",
      "         114       1.00      0.05      0.10       100\n",
      "         115       1.00      0.99      0.99       100\n",
      "         116       1.00      0.16      0.28       100\n",
      "         117       1.00      0.14      0.25       100\n",
      "         118       1.00      0.32      0.48       100\n",
      "         119       1.00      0.90      0.95       100\n",
      "         120       1.00      0.14      0.25       100\n",
      "         121       1.00      0.02      0.04       100\n",
      "         122       1.00      0.68      0.81       100\n",
      "         123       1.00      0.09      0.17       100\n",
      "         124       1.00      0.16      0.28       100\n",
      "         125       1.00      0.49      0.66       100\n",
      "         126       1.00      0.10      0.18       100\n",
      "         127       1.00      0.86      0.92       100\n",
      "         128       0.00      0.00      0.00       100\n",
      "         129       1.00      0.76      0.86       100\n",
      "         130       1.00      0.03      0.06       100\n",
      "         131       1.00      0.50      0.67       100\n",
      "         132       1.00      0.57      0.73       100\n",
      "         133       1.00      0.27      0.43       100\n",
      "         134       1.00      0.84      0.91       100\n",
      "         135       1.00      0.41      0.58       100\n",
      "         136       1.00      0.21      0.35       100\n",
      "         137       1.00      0.17      0.29       100\n",
      "         138       1.00      0.16      0.28       100\n",
      "         139       1.00      0.36      0.53       100\n",
      "         140       1.00      0.11      0.20       100\n",
      "         141       1.00      0.26      0.41       100\n",
      "         142       0.00      0.00      0.00       100\n",
      "         143       1.00      0.34      0.51       100\n",
      "         144       1.00      0.23      0.37       100\n",
      "         145       1.00      0.01      0.02       100\n",
      "         146       1.00      0.42      0.59       100\n",
      "         147       1.00      0.04      0.08       100\n",
      "         148       1.00      0.82      0.90       100\n",
      "         149       0.00      0.00      0.00       100\n",
      "         150       1.00      0.92      0.96       100\n",
      "         151       1.00      0.08      0.15       100\n",
      "         152       1.00      0.21      0.35       100\n",
      "         153       1.00      0.53      0.69       100\n",
      "         154       1.00      0.01      0.02       100\n",
      "         155       1.00      0.57      0.73       100\n",
      "         156       1.00      0.16      0.28       100\n",
      "         157       1.00      0.91      0.95       100\n",
      "         158       0.00      0.00      0.00       100\n",
      "         159       1.00      0.01      0.02       100\n",
      "         160       0.00      0.00      0.00       100\n",
      "\n",
      "   micro avg       1.00      0.36      0.53     16100\n",
      "   macro avg       0.91      0.36      0.45     16100\n",
      "weighted avg       0.91      0.36      0.45     16100\n",
      " samples avg       0.36      0.36      0.36     16100\n",
      "\n",
      "Accuracy : 35.66%\n",
      "Error Rate :0.003996 \n"
     ]
    },
    {
     "data": {
      "image/png": "[encoded data removed]",
      "text/plain": [
       "<Figure size 432x288 with 2 Axes>"
      ]
     },
     "metadata": {
      "needs_background": "light"
     },
     "output_type": "display_data"
    }
   ],
   "source": [
    "from sklearn.metrics import confusion_matrix, accuracy_score, classification_report\n",
    "import pandas as pd\n",
    "\n",
    "errors_rate = abs(pred_1- y_validation)\n",
    "conf_max = confusion_matrix(y_validation.argmax(axis = 1), pred_1.argmax(axis = 1))\n",
    "model1_accuracy = accuracy_score(y_validation, pred_1)\n",
    "\n",
    "def plot_confusion_matrix(conf_max ):\n",
    "  class_names = np.array(y_train)\n",
    "  fig, ax = plt.subplots()\n",
    "  tick_marks = np.arange(len(class_names))\n",
    "  plt.xticks(tick_marks, class_names)\n",
    "  plt.yticks(tick_marks, class_names)\n",
    "\n",
    "  sns.heatmap(pd.DataFrame(conf_max), annot = True, cmap  ='YlGnBu', fmt='g')\n",
    "  ax.xaxis.set_label_position(\"top\")\n",
    "\n",
    "  plt.tight_layout()\n",
    "  plt.title(\"Confusion Matrix\")\n",
    "  plt.ylabel(\"Actual label\")\n",
    "  plt.xlabel(\"Predicted label\")\n",
    "\n",
    "print (\"MODEL 1 PERFORMANCE\")\n",
    "plot_confusion_matrix(conf_max)\n",
    "print(\"Confusion Matrix\\n\\n\",conf_max)\n",
    "print(classification_report(y_validation,pred_1))\n",
    "print(\"Accuracy : {:.2%}\".format(model1_accuracy))\n",
    "print (\"Error Rate :{:.6f} \".format(np.mean(errors_rate)))"
   ]
  },
  {
   "cell_type": "code",
   "execution_count": null,
   "metadata": {
    "id": "SeYr1XwBhvr8"
   },
   "outputs": [],
   "source": []
  }
 ],
 "metadata": {
  "accelerator": "GPU",
  "colab": {
   "collapsed_sections": [
    "yUK5rGnSv7l8",
    "Rs8O5_l4v9XH",
    "Df2iERKBuvaR",
    "kUpxsC7pu744"
   ],
   "name": "Assignment.ipynb",
   "provenance": []
  },
  "kernelspec": {
   "display_name": "Python 3",
   "language": "python",
   "name": "python3"
  },
  "language_info": {
   "codemirror_mode": {
    "name": "ipython",
    "version": 3
   },
   "file_extension": ".py",
   "mimetype": "text/x-python",
   "name": "python",
   "nbconvert_exporter": "python",
   "pygments_lexer": "ipython3",
   "version": "3.8.5"
  }
 },
 "nbformat": 4,
 "nbformat_minor": 1
}
