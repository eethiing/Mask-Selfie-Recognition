{
 "cells": [
  {
   "cell_type": "code",
   "execution_count": 7,
   "metadata": {},
   "outputs": [],
   "source": [
    "import tensorflow as tf\n",
    "import matplotlib.pyplot as plt\n",
    "import seaborn as sns\n",
    "import numpy as np\n",
    "from PIL import Image\n",
    "\n",
    "%matplotlib inline\n",
    "from tensorflow import keras\n",
    "from matplotlib.image import imread"
   ]
  },
  {
   "cell_type": "markdown",
   "metadata": {},
   "source": [
    "# Load Training Data"
   ]
  },
  {
   "cell_type": "code",
   "execution_count": 8,
   "metadata": {},
   "outputs": [
    {
     "name": "stdout",
     "output_type": "stream",
     "text": [
      "['0', '1', '2', '3', '4', '5', '6', '7', '8', '9', '10', '11', '12', '13', '14', '15', '16', '17', '18', '19', '20', '21', '22', '23', '24', '25', '26', '27', '28', '29', '30', '31', '32', '33', '34', '35', '36', '37', '38', '39', '40', '41', '42', '43', '44', '45', '46', '47', '48', '49', '50', '51', '52', '53', '54', '55', '56', '57', '58', '59', '60', '61', '62', '63', '64', '65', '66', '67', '68', '69', '70', '71', '72', '73', '74', '75', '76', '77', '78', '79', '80', '81', '82', '83', '84', '85', '86', '87', '88', '89', '90', '91', '92', '93', '94', '95', '96', '97', '98', '99', '100', '101', '102', '103', '104', '105', '106', '107', '108', '109', '110', '111', '112', '113', '114', '115', '116', '117', '118', '119', '120', '121', '122', '123', '124', '125', '126', '127', '128', '129', '130', '131', '132', '133', '134', '135', '136', '137', '138', '139', '140', '141', '142', '143', '144', '145', '146', '147', '148', '149', '150', '151', '152', '153', '154', '155', '156', '157', '158', '159', '160']\n",
      "Done 0\n",
      "Done 1\n",
      "Done 2\n",
      "Done 3\n",
      "Done 4\n",
      "Done 5\n",
      "Done 6\n",
      "Done 7\n",
      "Done 8\n",
      "Done 9\n",
      "Done 10\n",
      "Done 11\n",
      "Done 12\n",
      "Done 13\n",
      "Done 14\n",
      "Done 15\n",
      "Done 16\n",
      "Done 17\n",
      "Done 18\n",
      "Done 19\n",
      "Done 20\n",
      "Done 21\n",
      "Done 22\n",
      "Done 23\n",
      "Done 24\n",
      "Done 25\n",
      "Done 26\n",
      "Done 27\n",
      "Done 28\n",
      "Done 29\n",
      "Done 30\n",
      "Done 31\n",
      "Done 32\n",
      "Done 33\n",
      "Done 34\n",
      "Done 35\n",
      "Done 36\n",
      "Done 37\n",
      "Done 38\n",
      "Done 39\n",
      "Done 40\n",
      "Done 41\n",
      "Done 42\n",
      "Done 43\n",
      "Done 44\n",
      "Done 45\n",
      "Done 46\n",
      "Done 47\n",
      "Done 48\n",
      "Done 49\n",
      "Done 50\n",
      "Done 51\n",
      "Done 52\n",
      "Done 53\n",
      "Done 54\n",
      "Done 55\n",
      "Done 56\n",
      "Done 57\n",
      "Done 58\n",
      "Done 59\n",
      "Done 60\n",
      "Done 61\n",
      "Done 62\n",
      "Done 63\n",
      "Done 64\n",
      "Done 65\n",
      "Done 66\n",
      "Done 67\n",
      "Done 68\n",
      "Done 69\n",
      "Done 70\n",
      "Done 71\n",
      "Done 72\n",
      "Done 73\n",
      "Done 74\n",
      "Done 75\n",
      "Done 76\n",
      "Done 77\n",
      "Done 78\n",
      "Done 79\n",
      "Done 80\n",
      "Done 81\n",
      "Done 82\n",
      "Done 83\n",
      "Done 84\n",
      "Done 85\n",
      "Done 86\n",
      "Done 87\n",
      "Done 88\n",
      "Done 89\n",
      "Done 90\n",
      "Done 91\n",
      "Done 92\n",
      "Done 93\n",
      "Done 94\n",
      "Done 95\n",
      "Done 96\n",
      "Done 97\n",
      "Done 98\n",
      "Done 99\n",
      "Done 100\n",
      "Done 101\n",
      "Done 102\n",
      "Done 103\n",
      "Done 104\n",
      "Done 105\n",
      "Done 106\n",
      "Done 107\n",
      "Done 108\n",
      "Done 109\n",
      "Done 110\n",
      "Done 111\n",
      "Done 112\n",
      "Done 113\n",
      "Done 114\n",
      "Done 115\n",
      "Done 116\n",
      "Done 117\n",
      "Done 118\n",
      "Done 119\n",
      "Done 120\n",
      "Done 121\n",
      "Done 122\n",
      "Done 123\n",
      "Done 124\n",
      "Done 125\n",
      "Done 126\n",
      "Done 127\n",
      "Done 128\n",
      "Done 129\n",
      "Done 130\n",
      "Done 131\n",
      "Done 132\n",
      "Done 133\n",
      "Done 134\n",
      "Done 135\n",
      "Done 136\n",
      "Done 137\n",
      "Done 138\n",
      "Done 139\n",
      "Done 140\n",
      "Done 141\n",
      "Done 142\n",
      "Done 143\n",
      "Done 144\n",
      "Done 145\n",
      "Done 146\n",
      "Done 147\n",
      "Done 148\n",
      "Done 149\n",
      "Done 150\n",
      "Done 151\n",
      "Done 152\n",
      "Done 153\n",
      "Done 154\n",
      "Done 155\n",
      "Done 156\n",
      "Done 157\n",
      "Done 158\n",
      "Done 159\n",
      "Done 160\n"
     ]
    }
   ],
   "source": [
    "import os\n",
    "import cv2\n",
    "\n",
    "train_images = []\n",
    "train_label = []\n",
    "FOLDER_NAME = []\n",
    "DATADIR = \"C:/Users/ee/Documents/YEAR 2/MACHINE LEARNING/Assignment/medical_mask_selfie/training_datas/\"\n",
    "\n",
    "\n",
    "for i in range(0,161) :\n",
    "    FOLDER_NAME.append(str(i))\n",
    "print (FOLDER_NAME)\n",
    "\n",
    "def load_train_images(folder,i):\n",
    "      for filename in os.listdir(folder):\n",
    "          if any([filename.endswith(x) for x in ['.jpeg', '.jpg']]):\n",
    "            img = imread(os.path.join(folder, filename))\n",
    "            resized_image = cv2.resize(img,(64,48))\n",
    "            if resized_image is not None:\n",
    "              train_images.append(resized_image)\n",
    "              train_label.append(i)\n",
    "      return train_images, train_label\n",
    "\n",
    "for i in range(0,161): #change to 162\n",
    "    folders = \"C:/Users/ee/Documents/YEAR 2/MACHINE LEARNING/Assignment/medical_mask_selfie/training_datas/\" + str(i+1) #change folder name\n",
    "    training_images= load_train_images(folders,i)\n",
    "    print(\"Done\", i)"
   ]
  },
  {
   "cell_type": "markdown",
   "metadata": {},
   "source": [
    "# Load Testing Data"
   ]
  },
  {
   "cell_type": "code",
   "execution_count": 9,
   "metadata": {},
   "outputs": [
    {
     "name": "stdout",
     "output_type": "stream",
     "text": [
      "Done 0\n",
      "Done 1\n",
      "Done 2\n",
      "Done 3\n",
      "Done 4\n",
      "Done 5\n",
      "Done 6\n",
      "Done 7\n",
      "Done 8\n",
      "Done 9\n",
      "Done 10\n",
      "Done 11\n",
      "Done 12\n",
      "Done 13\n",
      "Done 14\n",
      "Done 15\n",
      "Done 16\n",
      "Done 17\n",
      "Done 18\n",
      "Done 19\n",
      "Done 20\n",
      "Done 21\n",
      "Done 22\n",
      "Done 23\n",
      "Done 24\n",
      "Done 25\n",
      "Done 26\n",
      "Done 27\n",
      "Done 28\n",
      "Done 29\n",
      "Done 30\n",
      "Done 31\n",
      "Done 32\n",
      "Done 33\n",
      "Done 34\n",
      "Done 35\n",
      "Done 36\n",
      "Done 37\n",
      "Done 38\n",
      "Done 39\n",
      "Done 40\n",
      "Done 41\n",
      "Done 42\n",
      "Done 43\n",
      "Done 44\n",
      "Done 45\n",
      "Done 46\n",
      "Done 47\n",
      "Done 48\n",
      "Done 49\n",
      "Done 50\n",
      "Done 51\n",
      "Done 52\n",
      "Done 53\n",
      "Done 54\n",
      "Done 55\n",
      "Done 56\n",
      "Done 57\n",
      "Done 58\n",
      "Done 59\n",
      "Done 60\n",
      "Done 61\n",
      "Done 62\n",
      "Done 63\n",
      "Done 64\n",
      "Done 65\n",
      "Done 66\n",
      "Done 67\n",
      "Done 68\n",
      "Done 69\n",
      "Done 70\n",
      "Done 71\n",
      "Done 72\n",
      "Done 73\n",
      "Done 74\n",
      "Done 75\n",
      "Done 76\n",
      "Done 77\n",
      "Done 78\n",
      "Done 79\n",
      "Done 80\n",
      "Done 81\n",
      "Done 82\n",
      "Done 83\n",
      "Done 84\n",
      "Done 85\n",
      "Done 86\n",
      "Done 87\n",
      "Done 88\n",
      "Done 89\n",
      "Done 90\n",
      "Done 91\n",
      "Done 92\n",
      "Done 93\n",
      "Done 94\n",
      "Done 95\n",
      "Done 96\n",
      "Done 97\n",
      "Done 98\n",
      "Done 99\n",
      "Done 100\n",
      "Done 101\n",
      "Done 102\n",
      "Done 103\n",
      "Done 104\n",
      "Done 105\n",
      "Done 106\n",
      "Done 107\n",
      "Done 108\n",
      "Done 109\n",
      "Done 110\n",
      "Done 111\n",
      "Done 112\n",
      "Done 113\n",
      "Done 114\n",
      "Done 115\n",
      "Done 116\n",
      "Done 117\n",
      "Done 118\n",
      "Done 119\n",
      "Done 120\n",
      "Done 121\n",
      "Done 122\n",
      "Done 123\n",
      "Done 124\n",
      "Done 125\n",
      "Done 126\n",
      "Done 127\n",
      "Done 128\n",
      "Done 129\n",
      "Done 130\n",
      "Done 131\n",
      "Done 132\n",
      "Done 133\n",
      "Done 134\n",
      "Done 135\n",
      "Done 136\n",
      "Done 137\n",
      "Done 138\n",
      "Done 139\n",
      "Done 140\n",
      "Done 141\n",
      "Done 142\n",
      "Done 143\n",
      "Done 144\n",
      "Done 145\n",
      "Done 146\n",
      "Done 147\n",
      "Done 148\n",
      "Done 149\n",
      "Done 150\n",
      "Done 151\n",
      "Done 152\n",
      "Done 153\n",
      "Done 154\n",
      "Done 155\n",
      "Done 156\n",
      "Done 157\n",
      "Done 158\n",
      "Done 159\n",
      "Done 160\n"
     ]
    }
   ],
   "source": [
    "import os\n",
    "import cv2\n",
    "\n",
    "test_images = []\n",
    "test_label = []\n",
    "FOLDER_NAME = []\n",
    "DATADIR = \"C:/Users/ee/Documents/YEAR 2/MACHINE LEARNING/Assignment/medical_mask_selfie/testing_datas/\"\n",
    "\n",
    "\n",
    "for i in range(0,161) :\n",
    "    FOLDER_NAME.append(str(i))\n",
    "\n",
    "def load_test_images(folder,i):\n",
    "      for filename in os.listdir(folder):\n",
    "          if any([filename.endswith(x) for x in ['.jpeg', '.jpg']]):\n",
    "            img = imread(os.path.join(folder, filename))\n",
    "            resized_image = cv2.resize(img,(64,48))\n",
    "            if resized_image is not None:\n",
    "              test_images.append(resized_image)\n",
    "              test_label.append(i)\n",
    "      return test_images, test_label\n",
    "\n",
    "for i in range(0,161): #change to 162\n",
    "    folders = \"C:/Users/ee/Documents/YEAR 2/MACHINE LEARNING/Assignment/medical_mask_selfie/testing_datas/\" + str(i+1) #change folder name\n",
    "    testing_images= load_test_images(folders,i)\n",
    "    print(\"Done\", i)"
   ]
  },
  {
   "cell_type": "markdown",
   "metadata": {},
   "source": [
    "# Load Validation Data"
   ]
  },
  {
   "cell_type": "code",
   "execution_count": 10,
   "metadata": {},
   "outputs": [
    {
     "name": "stdout",
     "output_type": "stream",
     "text": [
      "Done 0\n",
      "Done 1\n",
      "Done 2\n",
      "Done 3\n",
      "Done 4\n",
      "Done 5\n",
      "Done 6\n",
      "Done 7\n",
      "Done 8\n",
      "Done 9\n",
      "Done 10\n",
      "Done 11\n",
      "Done 12\n",
      "Done 13\n",
      "Done 14\n",
      "Done 15\n",
      "Done 16\n",
      "Done 17\n",
      "Done 18\n",
      "Done 19\n",
      "Done 20\n",
      "Done 21\n",
      "Done 22\n",
      "Done 23\n",
      "Done 24\n",
      "Done 25\n",
      "Done 26\n",
      "Done 27\n",
      "Done 28\n",
      "Done 29\n",
      "Done 30\n",
      "Done 31\n",
      "Done 32\n",
      "Done 33\n",
      "Done 34\n",
      "Done 35\n",
      "Done 36\n",
      "Done 37\n",
      "Done 38\n",
      "Done 39\n",
      "Done 40\n",
      "Done 41\n",
      "Done 42\n",
      "Done 43\n",
      "Done 44\n",
      "Done 45\n",
      "Done 46\n",
      "Done 47\n",
      "Done 48\n",
      "Done 49\n",
      "Done 50\n",
      "Done 51\n",
      "Done 52\n",
      "Done 53\n",
      "Done 54\n",
      "Done 55\n",
      "Done 56\n",
      "Done 57\n",
      "Done 58\n",
      "Done 59\n",
      "Done 60\n",
      "Done 61\n",
      "Done 62\n",
      "Done 63\n",
      "Done 64\n",
      "Done 65\n",
      "Done 66\n",
      "Done 67\n",
      "Done 68\n",
      "Done 69\n",
      "Done 70\n",
      "Done 71\n",
      "Done 72\n",
      "Done 73\n",
      "Done 74\n",
      "Done 75\n",
      "Done 76\n",
      "Done 77\n",
      "Done 78\n",
      "Done 79\n",
      "Done 80\n",
      "Done 81\n",
      "Done 82\n",
      "Done 83\n",
      "Done 84\n",
      "Done 85\n",
      "Done 86\n",
      "Done 87\n",
      "Done 88\n",
      "Done 89\n",
      "Done 90\n",
      "Done 91\n",
      "Done 92\n",
      "Done 93\n",
      "Done 94\n",
      "Done 95\n",
      "Done 96\n",
      "Done 97\n",
      "Done 98\n",
      "Done 99\n",
      "Done 100\n",
      "Done 101\n",
      "Done 102\n",
      "Done 103\n",
      "Done 104\n",
      "Done 105\n",
      "Done 106\n",
      "Done 107\n",
      "Done 108\n",
      "Done 109\n",
      "Done 110\n",
      "Done 111\n",
      "Done 112\n",
      "Done 113\n",
      "Done 114\n",
      "Done 115\n",
      "Done 116\n",
      "Done 117\n",
      "Done 118\n",
      "Done 119\n",
      "Done 120\n",
      "Done 121\n",
      "Done 122\n",
      "Done 123\n",
      "Done 124\n",
      "Done 125\n",
      "Done 126\n",
      "Done 127\n",
      "Done 128\n",
      "Done 129\n",
      "Done 130\n",
      "Done 131\n",
      "Done 132\n",
      "Done 133\n",
      "Done 134\n",
      "Done 135\n",
      "Done 136\n",
      "Done 137\n",
      "Done 138\n",
      "Done 139\n",
      "Done 140\n",
      "Done 141\n",
      "Done 142\n",
      "Done 143\n",
      "Done 144\n",
      "Done 145\n",
      "Done 146\n",
      "Done 147\n",
      "Done 148\n",
      "Done 149\n",
      "Done 150\n",
      "Done 151\n",
      "Done 152\n",
      "Done 153\n",
      "Done 154\n",
      "Done 155\n",
      "Done 156\n",
      "Done 157\n",
      "Done 158\n",
      "Done 159\n",
      "Done 160\n"
     ]
    }
   ],
   "source": [
    "import os\n",
    "import cv2\n",
    "\n",
    "valid_images = []\n",
    "validation_label = []\n",
    "FOLDER_NAME = []\n",
    "DATADIR = \"C:/Users/ee/Documents/YEAR 2/MACHINE LEARNING/Assignment/medical_mask_selfie/validation_datas/\"\n",
    "\n",
    "\n",
    "for i in range(0,161) :\n",
    "    FOLDER_NAME.append(str(i))\n",
    "\n",
    "def load_validation_images(folder,i):\n",
    "      for filename in os.listdir(folder):\n",
    "          if any([filename.endswith(x) for x in ['.jpeg', '.jpg']]):\n",
    "            img = imread(os.path.join(folder, filename))\n",
    "            resized_image = cv2.resize(img,(64,48))\n",
    "            if resized_image is not None:\n",
    "              valid_images.append(resized_image)\n",
    "              validation_label.append(i)\n",
    "      return valid_images, validation_label\n",
    "\n",
    "for i in range(0,161): #change to 162\n",
    "    folders = \"C:/Users/ee/Documents/YEAR 2/MACHINE LEARNING/Assignment/medical_mask_selfie/validation_datas/\" + str(i+1) #change folder name\n",
    "    validation_images= load_validation_images(folders,i)\n",
    "    print(\"Done\", i)"
   ]
  },
  {
   "cell_type": "markdown",
   "metadata": {},
   "source": [
    "# Convert training,testing and validation list to numpy array"
   ]
  },
  {
   "cell_type": "code",
   "execution_count": 11,
   "metadata": {},
   "outputs": [],
   "source": [
    "X_train = np.array(train_images)\n",
    "y_train_numpy = np.array(train_label).reshape(-1)"
   ]
  },
  {
   "cell_type": "code",
   "execution_count": 12,
   "metadata": {},
   "outputs": [
    {
     "data": {
      "text/plain": [
       "(48300, 48, 64, 3)"
      ]
     },
     "execution_count": 12,
     "metadata": {},
     "output_type": "execute_result"
    }
   ],
   "source": [
    "X_train.shape"
   ]
  },
  {
   "cell_type": "code",
   "execution_count": 13,
   "metadata": {},
   "outputs": [],
   "source": [
    "X_test = np.array(test_images)\n",
    "y_test_numpy = np.array(test_label).reshape(-1)"
   ]
  },
  {
   "cell_type": "code",
   "execution_count": 14,
   "metadata": {},
   "outputs": [],
   "source": [
    "X_validation = np.array (valid_images)\n",
    "y_validation_numpy= np.array(validation_label).reshape(-1)"
   ]
  },
  {
   "cell_type": "code",
   "execution_count": 15,
   "metadata": {},
   "outputs": [
    {
     "name": "stdout",
     "output_type": "stream",
     "text": [
      "[  0   0   0 ... 160 160 160]\n"
     ]
    }
   ],
   "source": [
    "print(y_train_numpy)"
   ]
  },
  {
   "cell_type": "markdown",
   "metadata": {},
   "source": [
    "# Labelling "
   ]
  },
  {
   "cell_type": "code",
   "execution_count": 16,
   "metadata": {},
   "outputs": [],
   "source": [
    "classes = 161\n",
    "y_train = np.eye(classes)[y_train_numpy]"
   ]
  },
  {
   "cell_type": "code",
   "execution_count": 17,
   "metadata": {},
   "outputs": [
    {
     "data": {
      "text/plain": [
       "(48300, 161)"
      ]
     },
     "execution_count": 17,
     "metadata": {},
     "output_type": "execute_result"
    }
   ],
   "source": [
    "y_train.shape"
   ]
  },
  {
   "cell_type": "code",
   "execution_count": 18,
   "metadata": {},
   "outputs": [
    {
     "name": "stdout",
     "output_type": "stream",
     "text": [
      "[[1. 0. 0. ... 0. 0. 0.]\n",
      " [1. 0. 0. ... 0. 0. 0.]\n",
      " [1. 0. 0. ... 0. 0. 0.]\n",
      " ...\n",
      " [0. 0. 0. ... 0. 0. 1.]\n",
      " [0. 0. 0. ... 0. 0. 1.]\n",
      " [0. 0. 0. ... 0. 0. 1.]]\n"
     ]
    }
   ],
   "source": [
    "print(y_train)"
   ]
  },
  {
   "cell_type": "code",
   "execution_count": 19,
   "metadata": {},
   "outputs": [],
   "source": [
    "classes = 161\n",
    "y_test = np.eye(classes)[y_test_numpy]"
   ]
  },
  {
   "cell_type": "code",
   "execution_count": 20,
   "metadata": {},
   "outputs": [],
   "source": [
    "classes = 161\n",
    "y_validation = np.eye(classes)[y_validation_numpy]"
   ]
  },
  {
   "cell_type": "code",
   "execution_count": null,
   "metadata": {},
   "outputs": [],
   "source": []
  },
  {
   "cell_type": "markdown",
   "metadata": {},
   "source": [
    "# CrossCheck the Data"
   ]
  },
  {
   "cell_type": "code",
   "execution_count": 16,
   "metadata": {},
   "outputs": [
    {
     "data": {
      "text/plain": [
       "<matplotlib.image.AxesImage at 0x23b8288deb8>"
      ]
     },
     "execution_count": 16,
     "metadata": {},
     "output_type": "execute_result"
    },
    {
     "data": {
      "image/png": "[encoded data removed]",
      "text/plain": [
       "<Figure size 432x288 with 1 Axes>"
      ]
     },
     "metadata": {
      "needs_background": "light"
     },
     "output_type": "display_data"
    }
   ],
   "source": [
    "plt.imshow(train_images[350])"
   ]
  },
  {
   "cell_type": "code",
   "execution_count": 17,
   "metadata": {},
   "outputs": [
    {
     "data": {
      "text/plain": [
       "array([0., 1., 0., 0., 0., 0., 0., 0., 0., 0., 0., 0., 0., 0., 0., 0., 0.,\n",
       "       0., 0., 0., 0., 0., 0., 0., 0., 0., 0., 0., 0., 0., 0., 0., 0., 0.,\n",
       "       0., 0., 0., 0., 0., 0., 0., 0., 0., 0., 0., 0., 0., 0., 0., 0., 0.,\n",
       "       0., 0., 0., 0., 0., 0., 0., 0., 0., 0., 0., 0., 0., 0., 0., 0., 0.,\n",
       "       0., 0., 0., 0., 0., 0., 0., 0., 0., 0., 0., 0., 0., 0., 0., 0., 0.,\n",
       "       0., 0., 0., 0., 0., 0., 0., 0., 0., 0., 0., 0., 0., 0., 0., 0., 0.,\n",
       "       0., 0., 0., 0., 0., 0., 0., 0., 0., 0., 0., 0., 0., 0., 0., 0., 0.,\n",
       "       0., 0., 0., 0., 0., 0., 0., 0., 0., 0., 0., 0., 0., 0., 0., 0., 0.,\n",
       "       0., 0., 0., 0., 0., 0., 0., 0., 0., 0., 0., 0., 0., 0., 0., 0., 0.,\n",
       "       0., 0., 0., 0., 0., 0., 0., 0.])"
      ]
     },
     "execution_count": 17,
     "metadata": {},
     "output_type": "execute_result"
    }
   ],
   "source": [
    "y_train[350]"
   ]
  },
  {
   "cell_type": "markdown",
   "metadata": {},
   "source": [
    "# Pre-Processing Images"
   ]
  },
  {
   "cell_type": "code",
   "execution_count": 21,
   "metadata": {},
   "outputs": [],
   "source": [
    "X_train = X_train[:]/255\n",
    "#X_test = X_test[:]/255\n",
    "X_validation = X_validation[:]/255"
   ]
  },
  {
   "cell_type": "code",
   "execution_count": 15,
   "metadata": {},
   "outputs": [
    {
     "data": {
      "text/plain": [
       "(48300, 48, 64, 3)"
      ]
     },
     "execution_count": 15,
     "metadata": {},
     "output_type": "execute_result"
    }
   ],
   "source": [
    "X_train.shape"
   ]
  },
  {
   "cell_type": "code",
   "execution_count": 16,
   "metadata": {},
   "outputs": [
    {
     "data": {
      "text/plain": [
       "(16100, 48, 64, 3)"
      ]
     },
     "execution_count": 16,
     "metadata": {},
     "output_type": "execute_result"
    }
   ],
   "source": [
    "X_validation.shape"
   ]
  },
  {
   "cell_type": "code",
   "execution_count": 22,
   "metadata": {},
   "outputs": [],
   "source": [
    "#Reshape it to 2D\n",
    "X_train = X_train.reshape(48300, 48*64*3)\n",
    "#X_test = X_test.reshape(16100, 48*64*3)\n",
    "X_validation = X_validation.reshape(16100, 48*64*3)"
   ]
  },
  {
   "cell_type": "code",
   "execution_count": null,
   "metadata": {},
   "outputs": [],
   "source": [
    "X_test.shape"
   ]
  },
  {
   "cell_type": "markdown",
   "metadata": {},
   "source": [
    "# Random Forest (model 3)"
   ]
  },
  {
   "cell_type": "code",
   "execution_count": 32,
   "metadata": {},
   "outputs": [
    {
     "data": {
      "text/plain": [
       "RandomForestClassifier(max_depth=15, n_estimators=500, random_state=42)"
      ]
     },
     "execution_count": 32,
     "metadata": {},
     "output_type": "execute_result"
    }
   ],
   "source": [
    "#random forest model creation \n",
    "from sklearn.ensemble import RandomForestClassifier\n",
    "\n",
    "# Create a Gaussian Classifier\n",
    "model3 = RandomForestClassifier(n_estimators = 500,max_depth = 15, random_state = 42 ) #(no of trees, random_state = set)\n",
    "model3.fit(X_train, y_train)"
   ]
  },
  {
   "cell_type": "code",
   "execution_count": 33,
   "metadata": {},
   "outputs": [],
   "source": [
    "pred_3 = model3.predict(X_validation)"
   ]
  },
  {
   "cell_type": "code",
   "execution_count": 35,
   "metadata": {},
   "outputs": [
    {
     "name": "stdout",
     "output_type": "stream",
     "text": [
      "MODEL 3 PERFORMANCE\n"
     ]
    },
    {
     "name": "stderr",
     "output_type": "stream",
     "text": [
      "C:\\Users\\ee\\anaconda3\\envs\\random_forest\\lib\\site-packages\\matplotlib\\text.py:1165: FutureWarning: elementwise comparison failed; returning scalar instead, but in the future will perform elementwise comparison\n",
      "  if s != self._text:\n"
     ]
    },
    {
     "name": "stdout",
     "output_type": "stream",
     "text": [
      "Confusion Matrix\n",
      "\n",
      " [[100   0   0 ...   0   0   0]\n",
      " [ 49  51   0 ...   0   0   0]\n",
      " [ 38   0  62 ...   0   0   0]\n",
      " ...\n",
      " [100   0   0 ...   0   0   0]\n",
      " [100   0   0 ...   0   0   0]\n",
      " [100   0   0 ...   0   0   0]]\n"
     ]
    },
    {
     "name": "stderr",
     "output_type": "stream",
     "text": [
      "C:\\Users\\ee\\anaconda3\\envs\\random_forest\\lib\\site-packages\\sklearn\\metrics\\_classification.py:1245: UndefinedMetricWarning: Precision and F-score are ill-defined and being set to 0.0 in labels with no predicted samples. Use `zero_division` parameter to control this behavior.\n",
      "  _warn_prf(average, modifier, msg_start, len(result))\n",
      "C:\\Users\\ee\\anaconda3\\envs\\random_forest\\lib\\site-packages\\sklearn\\metrics\\_classification.py:1245: UndefinedMetricWarning: Precision and F-score are ill-defined and being set to 0.0 in samples with no predicted labels. Use `zero_division` parameter to control this behavior.\n",
      "  _warn_prf(average, modifier, msg_start, len(result))\n"
     ]
    },
    {
     "name": "stdout",
     "output_type": "stream",
     "text": [
      "              precision    recall  f1-score   support\n",
      "\n",
      "           0       1.00      0.59      0.74       100\n",
      "           1       1.00      0.51      0.68       100\n",
      "           2       1.00      0.62      0.77       100\n",
      "           3       1.00      0.52      0.68       100\n",
      "           4       1.00      0.75      0.86       100\n",
      "           5       1.00      0.25      0.40       100\n",
      "           6       1.00      0.12      0.21       100\n",
      "           7       1.00      0.08      0.15       100\n",
      "           8       1.00      0.13      0.23       100\n",
      "           9       0.00      0.00      0.00       100\n",
      "          10       0.00      0.00      0.00       100\n",
      "          11       1.00      0.32      0.48       100\n",
      "          12       0.00      0.00      0.00       100\n",
      "          13       0.00      0.00      0.00       100\n",
      "          14       1.00      0.60      0.75       100\n",
      "          15       0.00      0.00      0.00       100\n",
      "          16       0.00      0.00      0.00       100\n",
      "          17       1.00      0.02      0.04       100\n",
      "          18       1.00      0.81      0.90       100\n",
      "          19       1.00      0.45      0.62       100\n",
      "          20       1.00      0.70      0.82       100\n",
      "          21       0.00      0.00      0.00       100\n",
      "          22       1.00      0.21      0.35       100\n",
      "          23       1.00      0.12      0.21       100\n",
      "          24       1.00      0.03      0.06       100\n",
      "          25       1.00      0.59      0.74       100\n",
      "          26       1.00      0.27      0.43       100\n",
      "          27       1.00      0.95      0.97       100\n",
      "          28       1.00      0.40      0.57       100\n",
      "          29       0.00      0.00      0.00       100\n",
      "          30       1.00      1.00      1.00       100\n",
      "          31       1.00      0.08      0.15       100\n",
      "          32       1.00      0.94      0.97       100\n",
      "          33       1.00      0.53      0.69       100\n",
      "          34       0.00      0.00      0.00       100\n",
      "          35       0.00      0.00      0.00       100\n",
      "          36       1.00      0.19      0.32       100\n",
      "          37       1.00      0.06      0.11       100\n",
      "          38       0.00      0.00      0.00       100\n",
      "          39       0.00      0.00      0.00       100\n",
      "          40       1.00      0.38      0.55       100\n",
      "          41       1.00      0.83      0.91       100\n",
      "          42       1.00      0.54      0.70       100\n",
      "          43       1.00      0.23      0.37       100\n",
      "          44       1.00      0.04      0.08       100\n",
      "          45       1.00      0.01      0.02       100\n",
      "          46       1.00      0.71      0.83       100\n",
      "          47       1.00      0.01      0.02       100\n",
      "          48       1.00      0.63      0.77       100\n",
      "          49       1.00      0.28      0.44       100\n",
      "          50       0.00      0.00      0.00       100\n",
      "          51       0.00      0.00      0.00       100\n",
      "          52       0.00      0.00      0.00       100\n",
      "          53       0.00      0.00      0.00       100\n",
      "          54       0.00      0.00      0.00       100\n",
      "          55       0.00      0.00      0.00       100\n",
      "          56       0.00      0.00      0.00       100\n",
      "          57       0.00      0.00      0.00       100\n",
      "          58       0.00      0.00      0.00       100\n",
      "          59       0.00      0.00      0.00       100\n",
      "          60       1.00      0.22      0.36       100\n",
      "          61       0.00      0.00      0.00       100\n",
      "          62       0.00      0.00      0.00       100\n",
      "          63       1.00      0.23      0.37       100\n",
      "          64       1.00      0.37      0.54       100\n",
      "          65       0.00      0.00      0.00       100\n",
      "          66       1.00      0.06      0.11       100\n",
      "          67       1.00      0.53      0.69       100\n",
      "          68       0.00      0.00      0.00       100\n",
      "          69       1.00      0.25      0.40       100\n",
      "          70       0.00      0.00      0.00       100\n",
      "          71       0.00      0.00      0.00       100\n",
      "          72       1.00      0.01      0.02       100\n",
      "          73       1.00      0.64      0.78       100\n",
      "          74       1.00      0.50      0.67       100\n",
      "          75       1.00      0.52      0.68       100\n",
      "          76       1.00      0.11      0.20       100\n",
      "          77       1.00      0.18      0.31       100\n",
      "          78       1.00      0.59      0.74       100\n",
      "          79       0.00      0.00      0.00       100\n",
      "          80       1.00      0.79      0.88       100\n",
      "          81       1.00      0.40      0.57       100\n",
      "          82       1.00      0.33      0.50       100\n",
      "          83       1.00      0.59      0.74       100\n",
      "          84       0.00      0.00      0.00       100\n",
      "          85       1.00      0.29      0.45       100\n",
      "          86       1.00      0.06      0.11       100\n",
      "          87       1.00      0.09      0.17       100\n",
      "          88       1.00      0.09      0.17       100\n",
      "          89       1.00      0.02      0.04       100\n",
      "          90       1.00      0.55      0.71       100\n",
      "          91       1.00      0.24      0.39       100\n",
      "          92       0.00      0.00      0.00       100\n",
      "          93       1.00      0.59      0.74       100\n",
      "          94       0.00      0.00      0.00       100\n",
      "          95       0.00      0.00      0.00       100\n",
      "          96       0.00      0.00      0.00       100\n",
      "          97       1.00      0.51      0.68       100\n",
      "          98       1.00      0.64      0.78       100\n",
      "          99       1.00      0.31      0.47       100\n",
      "         100       0.00      0.00      0.00       100\n",
      "         101       1.00      0.10      0.18       100\n",
      "         102       1.00      0.40      0.57       100\n",
      "         103       0.00      0.00      0.00       100\n",
      "         104       1.00      0.26      0.41       100\n",
      "         105       1.00      0.08      0.15       100\n",
      "         106       1.00      0.58      0.73       100\n",
      "         107       1.00      0.01      0.02       100\n",
      "         108       1.00      0.33      0.50       100\n",
      "         109       0.00      0.00      0.00       100\n",
      "         110       1.00      0.01      0.02       100\n",
      "         111       1.00      0.57      0.73       100\n",
      "         112       1.00      0.38      0.55       100\n",
      "         113       1.00      0.30      0.46       100\n",
      "         114       0.00      0.00      0.00       100\n",
      "         115       1.00      0.83      0.91       100\n",
      "         116       0.00      0.00      0.00       100\n",
      "         117       1.00      0.07      0.13       100\n",
      "         118       1.00      0.06      0.11       100\n",
      "         119       1.00      0.52      0.68       100\n",
      "         120       1.00      0.04      0.08       100\n",
      "         121       0.00      0.00      0.00       100\n",
      "         122       1.00      0.64      0.78       100\n",
      "         123       1.00      0.01      0.02       100\n",
      "         124       1.00      0.09      0.17       100\n",
      "         125       0.97      0.37      0.54       100\n",
      "         126       0.00      0.00      0.00       100\n",
      "         127       1.00      0.21      0.35       100\n",
      "         128       0.00      0.00      0.00       100\n",
      "         129       1.00      0.67      0.80       100\n",
      "         130       0.00      0.00      0.00       100\n",
      "         131       1.00      0.46      0.63       100\n",
      "         132       1.00      0.35      0.52       100\n",
      "         133       1.00      0.15      0.26       100\n",
      "         134       1.00      0.78      0.88       100\n",
      "         135       1.00      0.25      0.40       100\n",
      "         136       1.00      0.20      0.33       100\n",
      "         137       1.00      0.01      0.02       100\n",
      "         138       1.00      0.04      0.08       100\n",
      "         139       1.00      0.27      0.43       100\n",
      "         140       0.00      0.00      0.00       100\n",
      "         141       1.00      0.21      0.35       100\n",
      "         142       0.00      0.00      0.00       100\n",
      "         143       1.00      0.32      0.48       100\n",
      "         144       1.00      0.17      0.29       100\n",
      "         145       0.00      0.00      0.00       100\n",
      "         146       1.00      0.47      0.64       100\n",
      "         147       0.00      0.00      0.00       100\n",
      "         148       1.00      0.82      0.90       100\n",
      "         149       0.00      0.00      0.00       100\n",
      "         150       1.00      0.85      0.92       100\n",
      "         151       1.00      0.02      0.04       100\n",
      "         152       0.00      0.00      0.00       100\n",
      "         153       1.00      0.38      0.55       100\n",
      "         154       0.00      0.00      0.00       100\n",
      "         155       0.98      0.54      0.70       100\n",
      "         156       0.00      0.00      0.00       100\n",
      "         157       1.00      0.88      0.94       100\n",
      "         158       0.00      0.00      0.00       100\n",
      "         159       0.00      0.00      0.00       100\n",
      "         160       0.00      0.00      0.00       100\n",
      "\n",
      "   micro avg       1.00      0.24      0.39     16100\n",
      "   macro avg       0.66      0.24      0.32     16100\n",
      "weighted avg       0.66      0.24      0.32     16100\n",
      " samples avg       0.24      0.24      0.24     16100\n",
      "\n",
      "Accuracy : 24.17%\n",
      "Error Rate :0.004711 \n"
     ]
    },
    {
     "data": {
      "image/png": "[encoded data removed]",
      "text/plain": [
       "<Figure size 432x288 with 2 Axes>"
      ]
     },
     "metadata": {
      "needs_background": "light"
     },
     "output_type": "display_data"
    }
   ],
   "source": [
    "from sklearn.metrics import confusion_matrix, accuracy_score, classification_report\n",
    "import pandas as pd\n",
    "\n",
    "errors_rate = abs(pred_3- y_validation)\n",
    "conf_max = confusion_matrix(y_validation.argmax(axis = 1), pred_3.argmax(axis = 1))\n",
    "model3_accuracy = accuracy_score(y_validation, pred_3)\n",
    "                                 \n",
    "def plot_confusion_matrix(conf_max):\n",
    "  class_names = np.array(y_train)\n",
    "  fig, ax = plt.subplots()\n",
    "  tick_marks = np.arange(len(class_names))\n",
    "  plt.xticks(tick_marks, class_names)\n",
    "  plt.yticks(tick_marks, class_names)\n",
    "\n",
    "  sns.heatmap(pd.DataFrame(conf_max), annot = True, cmap  ='YlGnBu', fmt='g')\n",
    "  ax.xaxis.set_label_position(\"top\")\n",
    "\n",
    "  plt.tight_layout()\n",
    "  plt.title(\"Confusion Matrix\")\n",
    "  plt.ylabel(\"Actual label\")\n",
    "  plt.xlabel(\"Predicted label\")\n",
    "\n",
    "print (\"MODEL 3 PERFORMANCE\")\n",
    "plot_confusion_matrix(conf_max)\n",
    "print(\"Confusion Matrix\\n\\n\",conf_max)\n",
    "print(classification_report(y_validation,pred_3))\n",
    "print(\"Accuracy : {:.2%}\".format(model3_accuracy))\n",
    "print (\"Error Rate :{:.6f} \".format(np.mean(errors_rate)))"
   ]
  },
  {
   "cell_type": "code",
   "execution_count": null,
   "metadata": {},
   "outputs": [],
   "source": []
  }
 ],
 "metadata": {
  "kernelspec": {
   "display_name": "Python 3",
   "language": "python",
   "name": "python3"
  },
  "language_info": {
   "codemirror_mode": {
    "name": "ipython",
    "version": 3
   },
   "file_extension": ".py",
   "mimetype": "text/x-python",
   "name": "python",
   "nbconvert_exporter": "python",
   "pygments_lexer": "ipython3",
   "version": "3.8.5"
  }
 },
 "nbformat": 4,
 "nbformat_minor": 4
}
