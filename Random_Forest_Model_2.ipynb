{
  "nbformat": 4,
  "nbformat_minor": 0,
  "metadata": {
    "kernelspec": {
      "display_name": "Python 3",
      "language": "python",
      "name": "python3"
    },
    "language_info": {
      "codemirror_mode": {
        "name": "ipython",
        "version": 3
      },
      "file_extension": ".py",
      "mimetype": "text/x-python",
      "name": "python",
      "nbconvert_exporter": "python",
      "pygments_lexer": "ipython3",
      "version": "3.8.5"
    },
    "colab": {
      "name": "Random Forest- Model 2.ipynb",
      "provenance": []
    }
  },
  "cells": [
    {
      "cell_type": "code",
      "metadata": {
        "id": "BrgFUGp89Cin"
      },
      "source": [
        "import tensorflow as tf\n",
        "import matplotlib.pyplot as plt\n",
        "import seaborn as sns\n",
        "import numpy as np\n",
        "from PIL import Image\n",
        "\n",
        "%matplotlib inline\n",
        "from tensorflow import keras\n",
        "from matplotlib.image import imread"
      ],
      "execution_count": null,
      "outputs": []
    },
    {
      "cell_type": "markdown",
      "metadata": {
        "id": "EKLytPs59Civ"
      },
      "source": [
        "# Load Training Data"
      ]
    },
    {
      "cell_type": "code",
      "metadata": {
        "id": "c29Ipyyy9Ciw",
        "outputId": "cafb0e4b-e27d-40be-c10f-0f19462e4f2d"
      },
      "source": [
        "import os\n",
        "import cv2\n",
        "\n",
        "train_images = []\n",
        "train_label = []\n",
        "FOLDER_NAME = []\n",
        "DATADIR = \"C:/Users/ee/Documents/YEAR 2/MACHINE LEARNING/Assignment/medical_mask_selfie/training_datas/\"\n",
        "\n",
        "\n",
        "for i in range(0,161) :\n",
        "    FOLDER_NAME.append(str(i))\n",
        "print (FOLDER_NAME)\n",
        "\n",
        "def load_train_images(folder,i):\n",
        "      for filename in os.listdir(folder):\n",
        "          if any([filename.endswith(x) for x in ['.jpeg', '.jpg']]):\n",
        "            img = imread(os.path.join(folder, filename))\n",
        "            resized_image = cv2.resize(img,(64,48))\n",
        "            if resized_image is not None:\n",
        "              train_images.append(resized_image)\n",
        "              train_label.append(i)\n",
        "      return train_images, train_label\n",
        "\n",
        "for i in range(0,161): #change to 162\n",
        "    folders = \"C:/Users/ee/Documents/YEAR 2/MACHINE LEARNING/Assignment/medical_mask_selfie/training_datas/\" + str(i+1) #change folder name\n",
        "    training_images= load_train_images(folders,i)\n",
        "    print(\"Done\", i)"
      ],
      "execution_count": null,
      "outputs": [
        {
          "output_type": "stream",
          "text": [
            "['0', '1', '2', '3', '4', '5', '6', '7', '8', '9', '10', '11', '12', '13', '14', '15', '16', '17', '18', '19', '20', '21', '22', '23', '24', '25', '26', '27', '28', '29', '30', '31', '32', '33', '34', '35', '36', '37', '38', '39', '40', '41', '42', '43', '44', '45', '46', '47', '48', '49', '50', '51', '52', '53', '54', '55', '56', '57', '58', '59', '60', '61', '62', '63', '64', '65', '66', '67', '68', '69', '70', '71', '72', '73', '74', '75', '76', '77', '78', '79', '80', '81', '82', '83', '84', '85', '86', '87', '88', '89', '90', '91', '92', '93', '94', '95', '96', '97', '98', '99', '100', '101', '102', '103', '104', '105', '106', '107', '108', '109', '110', '111', '112', '113', '114', '115', '116', '117', '118', '119', '120', '121', '122', '123', '124', '125', '126', '127', '128', '129', '130', '131', '132', '133', '134', '135', '136', '137', '138', '139', '140', '141', '142', '143', '144', '145', '146', '147', '148', '149', '150', '151', '152', '153', '154', '155', '156', '157', '158', '159', '160']\n",
            "Done 0\n",
            "Done 1\n",
            "Done 2\n",
            "Done 3\n",
            "Done 4\n",
            "Done 5\n",
            "Done 6\n",
            "Done 7\n",
            "Done 8\n",
            "Done 9\n",
            "Done 10\n",
            "Done 11\n",
            "Done 12\n",
            "Done 13\n",
            "Done 14\n",
            "Done 15\n",
            "Done 16\n",
            "Done 17\n",
            "Done 18\n",
            "Done 19\n",
            "Done 20\n",
            "Done 21\n",
            "Done 22\n",
            "Done 23\n",
            "Done 24\n",
            "Done 25\n",
            "Done 26\n",
            "Done 27\n",
            "Done 28\n",
            "Done 29\n",
            "Done 30\n",
            "Done 31\n",
            "Done 32\n",
            "Done 33\n",
            "Done 34\n",
            "Done 35\n",
            "Done 36\n",
            "Done 37\n",
            "Done 38\n",
            "Done 39\n",
            "Done 40\n",
            "Done 41\n",
            "Done 42\n",
            "Done 43\n",
            "Done 44\n",
            "Done 45\n",
            "Done 46\n",
            "Done 47\n",
            "Done 48\n",
            "Done 49\n",
            "Done 50\n",
            "Done 51\n",
            "Done 52\n",
            "Done 53\n",
            "Done 54\n",
            "Done 55\n",
            "Done 56\n",
            "Done 57\n",
            "Done 58\n",
            "Done 59\n",
            "Done 60\n",
            "Done 61\n",
            "Done 62\n",
            "Done 63\n",
            "Done 64\n",
            "Done 65\n",
            "Done 66\n",
            "Done 67\n",
            "Done 68\n",
            "Done 69\n",
            "Done 70\n",
            "Done 71\n",
            "Done 72\n",
            "Done 73\n",
            "Done 74\n",
            "Done 75\n",
            "Done 76\n",
            "Done 77\n",
            "Done 78\n",
            "Done 79\n",
            "Done 80\n",
            "Done 81\n",
            "Done 82\n",
            "Done 83\n",
            "Done 84\n",
            "Done 85\n",
            "Done 86\n",
            "Done 87\n",
            "Done 88\n",
            "Done 89\n",
            "Done 90\n",
            "Done 91\n",
            "Done 92\n",
            "Done 93\n",
            "Done 94\n",
            "Done 95\n",
            "Done 96\n",
            "Done 97\n",
            "Done 98\n",
            "Done 99\n",
            "Done 100\n",
            "Done 101\n",
            "Done 102\n",
            "Done 103\n",
            "Done 104\n",
            "Done 105\n",
            "Done 106\n",
            "Done 107\n",
            "Done 108\n",
            "Done 109\n",
            "Done 110\n",
            "Done 111\n",
            "Done 112\n",
            "Done 113\n",
            "Done 114\n",
            "Done 115\n",
            "Done 116\n",
            "Done 117\n",
            "Done 118\n",
            "Done 119\n",
            "Done 120\n",
            "Done 121\n",
            "Done 122\n",
            "Done 123\n",
            "Done 124\n",
            "Done 125\n",
            "Done 126\n",
            "Done 127\n",
            "Done 128\n",
            "Done 129\n",
            "Done 130\n",
            "Done 131\n",
            "Done 132\n",
            "Done 133\n",
            "Done 134\n",
            "Done 135\n",
            "Done 136\n",
            "Done 137\n",
            "Done 138\n",
            "Done 139\n",
            "Done 140\n",
            "Done 141\n",
            "Done 142\n",
            "Done 143\n",
            "Done 144\n",
            "Done 145\n",
            "Done 146\n",
            "Done 147\n",
            "Done 148\n",
            "Done 149\n",
            "Done 150\n",
            "Done 151\n",
            "Done 152\n",
            "Done 153\n",
            "Done 154\n",
            "Done 155\n",
            "Done 156\n",
            "Done 157\n",
            "Done 158\n",
            "Done 159\n",
            "Done 160\n"
          ],
          "name": "stdout"
        }
      ]
    },
    {
      "cell_type": "markdown",
      "metadata": {
        "id": "G3AWrs-m9Cix"
      },
      "source": [
        "# Load Testing Data"
      ]
    },
    {
      "cell_type": "code",
      "metadata": {
        "id": "MdMmyXtZ9Ciy",
        "outputId": "86060ca4-6a78-48c2-b0c8-86f3945197eb"
      },
      "source": [
        "import os\n",
        "import cv2\n",
        "\n",
        "test_images = []\n",
        "test_label = []\n",
        "FOLDER_NAME = []\n",
        "DATADIR = \"C:/Users/ee/Documents/YEAR 2/MACHINE LEARNING/Assignment/medical_mask_selfie/testing_datas/\"\n",
        "\n",
        "\n",
        "for i in range(0,161) :\n",
        "    FOLDER_NAME.append(str(i))\n",
        "\n",
        "def load_test_images(folder,i):\n",
        "      for filename in os.listdir(folder):\n",
        "          if any([filename.endswith(x) for x in ['.jpeg', '.jpg']]):\n",
        "            img = imread(os.path.join(folder, filename))\n",
        "            resized_image = cv2.resize(img,(64,48))\n",
        "            if resized_image is not None:\n",
        "              test_images.append(resized_image)\n",
        "              test_label.append(i)\n",
        "      return test_images, test_label\n",
        "\n",
        "for i in range(0,161): #change to 162\n",
        "    folders = \"C:/Users/ee/Documents/YEAR 2/MACHINE LEARNING/Assignment/medical_mask_selfie/testing_datas/\" + str(i+1) #change folder name\n",
        "    testing_images= load_test_images(folders,i)\n",
        "    print(\"Done\", i)"
      ],
      "execution_count": null,
      "outputs": [
        {
          "output_type": "stream",
          "text": [
            "Done 0\n",
            "Done 1\n",
            "Done 2\n",
            "Done 3\n",
            "Done 4\n",
            "Done 5\n",
            "Done 6\n",
            "Done 7\n",
            "Done 8\n",
            "Done 9\n",
            "Done 10\n",
            "Done 11\n",
            "Done 12\n",
            "Done 13\n",
            "Done 14\n",
            "Done 15\n",
            "Done 16\n",
            "Done 17\n",
            "Done 18\n",
            "Done 19\n",
            "Done 20\n",
            "Done 21\n",
            "Done 22\n",
            "Done 23\n",
            "Done 24\n",
            "Done 25\n",
            "Done 26\n",
            "Done 27\n",
            "Done 28\n",
            "Done 29\n",
            "Done 30\n",
            "Done 31\n",
            "Done 32\n",
            "Done 33\n",
            "Done 34\n",
            "Done 35\n",
            "Done 36\n",
            "Done 37\n",
            "Done 38\n",
            "Done 39\n",
            "Done 40\n",
            "Done 41\n",
            "Done 42\n",
            "Done 43\n",
            "Done 44\n",
            "Done 45\n",
            "Done 46\n",
            "Done 47\n",
            "Done 48\n",
            "Done 49\n",
            "Done 50\n",
            "Done 51\n",
            "Done 52\n",
            "Done 53\n",
            "Done 54\n",
            "Done 55\n",
            "Done 56\n",
            "Done 57\n",
            "Done 58\n",
            "Done 59\n",
            "Done 60\n",
            "Done 61\n",
            "Done 62\n",
            "Done 63\n",
            "Done 64\n",
            "Done 65\n",
            "Done 66\n",
            "Done 67\n",
            "Done 68\n",
            "Done 69\n",
            "Done 70\n",
            "Done 71\n",
            "Done 72\n",
            "Done 73\n",
            "Done 74\n",
            "Done 75\n",
            "Done 76\n",
            "Done 77\n",
            "Done 78\n",
            "Done 79\n",
            "Done 80\n",
            "Done 81\n",
            "Done 82\n",
            "Done 83\n",
            "Done 84\n",
            "Done 85\n",
            "Done 86\n",
            "Done 87\n",
            "Done 88\n",
            "Done 89\n",
            "Done 90\n",
            "Done 91\n",
            "Done 92\n",
            "Done 93\n",
            "Done 94\n",
            "Done 95\n",
            "Done 96\n",
            "Done 97\n",
            "Done 98\n",
            "Done 99\n",
            "Done 100\n",
            "Done 101\n",
            "Done 102\n",
            "Done 103\n",
            "Done 104\n",
            "Done 105\n",
            "Done 106\n",
            "Done 107\n",
            "Done 108\n",
            "Done 109\n",
            "Done 110\n",
            "Done 111\n",
            "Done 112\n",
            "Done 113\n",
            "Done 114\n",
            "Done 115\n",
            "Done 116\n",
            "Done 117\n",
            "Done 118\n",
            "Done 119\n",
            "Done 120\n",
            "Done 121\n",
            "Done 122\n",
            "Done 123\n",
            "Done 124\n",
            "Done 125\n",
            "Done 126\n",
            "Done 127\n",
            "Done 128\n",
            "Done 129\n",
            "Done 130\n",
            "Done 131\n",
            "Done 132\n",
            "Done 133\n",
            "Done 134\n",
            "Done 135\n",
            "Done 136\n",
            "Done 137\n",
            "Done 138\n",
            "Done 139\n",
            "Done 140\n",
            "Done 141\n",
            "Done 142\n",
            "Done 143\n",
            "Done 144\n",
            "Done 145\n",
            "Done 146\n",
            "Done 147\n",
            "Done 148\n",
            "Done 149\n",
            "Done 150\n",
            "Done 151\n",
            "Done 152\n",
            "Done 153\n",
            "Done 154\n",
            "Done 155\n",
            "Done 156\n",
            "Done 157\n",
            "Done 158\n",
            "Done 159\n",
            "Done 160\n"
          ],
          "name": "stdout"
        }
      ]
    },
    {
      "cell_type": "markdown",
      "metadata": {
        "id": "YuCAPQ5W9Ciy"
      },
      "source": [
        "# Load Validation Data"
      ]
    },
    {
      "cell_type": "code",
      "metadata": {
        "id": "6-248DuE9Ciz",
        "outputId": "b3604830-4910-4524-9fa9-211561e9464d"
      },
      "source": [
        "import os\n",
        "import cv2\n",
        "\n",
        "valid_images = []\n",
        "validation_label = []\n",
        "FOLDER_NAME = []\n",
        "DATADIR = \"C:/Users/ee/Documents/YEAR 2/MACHINE LEARNING/Assignment/medical_mask_selfie/validation_datas/\"\n",
        "\n",
        "\n",
        "for i in range(0,161) :\n",
        "    FOLDER_NAME.append(str(i))\n",
        "\n",
        "def load_validation_images(folder,i):\n",
        "      for filename in os.listdir(folder):\n",
        "          if any([filename.endswith(x) for x in ['.jpeg', '.jpg']]):\n",
        "            img = imread(os.path.join(folder, filename))\n",
        "            resized_image = cv2.resize(img,(64,48))\n",
        "            if resized_image is not None:\n",
        "              valid_images.append(resized_image)\n",
        "              validation_label.append(i)\n",
        "      return valid_images, validation_label\n",
        "\n",
        "for i in range(0,161): #change to 162\n",
        "    folders = \"C:/Users/ee/Documents/YEAR 2/MACHINE LEARNING/Assignment/medical_mask_selfie/validation_datas/\" + str(i+1) #change folder name\n",
        "    validation_images= load_validation_images(folders,i)\n",
        "    print(\"Done\", i)"
      ],
      "execution_count": null,
      "outputs": [
        {
          "output_type": "stream",
          "text": [
            "Done 0\n",
            "Done 1\n",
            "Done 2\n",
            "Done 3\n",
            "Done 4\n",
            "Done 5\n",
            "Done 6\n",
            "Done 7\n",
            "Done 8\n",
            "Done 9\n",
            "Done 10\n",
            "Done 11\n",
            "Done 12\n",
            "Done 13\n",
            "Done 14\n",
            "Done 15\n",
            "Done 16\n",
            "Done 17\n",
            "Done 18\n",
            "Done 19\n",
            "Done 20\n",
            "Done 21\n",
            "Done 22\n",
            "Done 23\n",
            "Done 24\n",
            "Done 25\n",
            "Done 26\n",
            "Done 27\n",
            "Done 28\n",
            "Done 29\n",
            "Done 30\n",
            "Done 31\n",
            "Done 32\n",
            "Done 33\n",
            "Done 34\n",
            "Done 35\n",
            "Done 36\n",
            "Done 37\n",
            "Done 38\n",
            "Done 39\n",
            "Done 40\n",
            "Done 41\n",
            "Done 42\n",
            "Done 43\n",
            "Done 44\n",
            "Done 45\n",
            "Done 46\n",
            "Done 47\n",
            "Done 48\n",
            "Done 49\n",
            "Done 50\n",
            "Done 51\n",
            "Done 52\n",
            "Done 53\n",
            "Done 54\n",
            "Done 55\n",
            "Done 56\n",
            "Done 57\n",
            "Done 58\n",
            "Done 59\n",
            "Done 60\n",
            "Done 61\n",
            "Done 62\n",
            "Done 63\n",
            "Done 64\n",
            "Done 65\n",
            "Done 66\n",
            "Done 67\n",
            "Done 68\n",
            "Done 69\n",
            "Done 70\n",
            "Done 71\n",
            "Done 72\n",
            "Done 73\n",
            "Done 74\n",
            "Done 75\n",
            "Done 76\n",
            "Done 77\n",
            "Done 78\n",
            "Done 79\n",
            "Done 80\n",
            "Done 81\n",
            "Done 82\n",
            "Done 83\n",
            "Done 84\n",
            "Done 85\n",
            "Done 86\n",
            "Done 87\n",
            "Done 88\n",
            "Done 89\n",
            "Done 90\n",
            "Done 91\n",
            "Done 92\n",
            "Done 93\n",
            "Done 94\n",
            "Done 95\n",
            "Done 96\n",
            "Done 97\n",
            "Done 98\n",
            "Done 99\n",
            "Done 100\n",
            "Done 101\n",
            "Done 102\n",
            "Done 103\n",
            "Done 104\n",
            "Done 105\n",
            "Done 106\n",
            "Done 107\n",
            "Done 108\n",
            "Done 109\n",
            "Done 110\n",
            "Done 111\n",
            "Done 112\n",
            "Done 113\n",
            "Done 114\n",
            "Done 115\n",
            "Done 116\n",
            "Done 117\n",
            "Done 118\n",
            "Done 119\n",
            "Done 120\n",
            "Done 121\n",
            "Done 122\n",
            "Done 123\n",
            "Done 124\n",
            "Done 125\n",
            "Done 126\n",
            "Done 127\n",
            "Done 128\n",
            "Done 129\n",
            "Done 130\n",
            "Done 131\n",
            "Done 132\n",
            "Done 133\n",
            "Done 134\n",
            "Done 135\n",
            "Done 136\n",
            "Done 137\n",
            "Done 138\n",
            "Done 139\n",
            "Done 140\n",
            "Done 141\n",
            "Done 142\n",
            "Done 143\n",
            "Done 144\n",
            "Done 145\n",
            "Done 146\n",
            "Done 147\n",
            "Done 148\n",
            "Done 149\n",
            "Done 150\n",
            "Done 151\n",
            "Done 152\n",
            "Done 153\n",
            "Done 154\n",
            "Done 155\n",
            "Done 156\n",
            "Done 157\n",
            "Done 158\n",
            "Done 159\n",
            "Done 160\n"
          ],
          "name": "stdout"
        }
      ]
    },
    {
      "cell_type": "markdown",
      "metadata": {
        "id": "uS8JtSQc9Ci3"
      },
      "source": [
        "# Convert training,testing and validation list to numpy array"
      ]
    },
    {
      "cell_type": "code",
      "metadata": {
        "id": "lTfIzQdR9Ci4"
      },
      "source": [
        "X_train = np.array(train_images)\n",
        "y_train_numpy = np.array(train_label).reshape(-1)"
      ],
      "execution_count": null,
      "outputs": []
    },
    {
      "cell_type": "code",
      "metadata": {
        "id": "SohsMuCF9Ci4",
        "outputId": "321eb947-4c01-4bca-807b-1080f42b309d"
      },
      "source": [
        "X_train.shape"
      ],
      "execution_count": null,
      "outputs": [
        {
          "output_type": "execute_result",
          "data": {
            "text/plain": [
              "(48300, 48, 64, 3)"
            ]
          },
          "metadata": {
            "tags": []
          },
          "execution_count": 12
        }
      ]
    },
    {
      "cell_type": "code",
      "metadata": {
        "id": "Zn7lRsuI9Ci5"
      },
      "source": [
        "X_test = np.array(test_images)\n",
        "y_test_numpy = np.array(test_label).reshape(-1)"
      ],
      "execution_count": null,
      "outputs": []
    },
    {
      "cell_type": "code",
      "metadata": {
        "id": "IGFnAaTQ9Ci7"
      },
      "source": [
        "X_validation = np.array (valid_images)\n",
        "y_validation_numpy= np.array(validation_label).reshape(-1)"
      ],
      "execution_count": null,
      "outputs": []
    },
    {
      "cell_type": "code",
      "metadata": {
        "id": "NHsJP_P89Ci7",
        "outputId": "bd4a6603-be8f-4e7f-f73c-d68c3826e35d"
      },
      "source": [
        "print(y_train_numpy)"
      ],
      "execution_count": null,
      "outputs": [
        {
          "output_type": "stream",
          "text": [
            "[  0   0   0 ... 160 160 160]\n"
          ],
          "name": "stdout"
        }
      ]
    },
    {
      "cell_type": "markdown",
      "metadata": {
        "id": "6UC7rSrw9Ci8"
      },
      "source": [
        "# Labelling "
      ]
    },
    {
      "cell_type": "code",
      "metadata": {
        "id": "k6cDlE2g9Ci8"
      },
      "source": [
        "classes = 161\n",
        "y_train = np.eye(classes)[y_train_numpy]"
      ],
      "execution_count": null,
      "outputs": []
    },
    {
      "cell_type": "code",
      "metadata": {
        "id": "ND8Hi4Sy9Ci9",
        "outputId": "d0e6db66-5fc6-4d01-bb5c-85d919efc205"
      },
      "source": [
        "y_train.shape"
      ],
      "execution_count": null,
      "outputs": [
        {
          "output_type": "execute_result",
          "data": {
            "text/plain": [
              "(48300, 161)"
            ]
          },
          "metadata": {
            "tags": []
          },
          "execution_count": 17
        }
      ]
    },
    {
      "cell_type": "code",
      "metadata": {
        "id": "GevQ0eKi9Ci-",
        "outputId": "1e66fb33-fa46-4fbf-f934-7892c92a102e"
      },
      "source": [
        "print(y_train)"
      ],
      "execution_count": null,
      "outputs": [
        {
          "output_type": "stream",
          "text": [
            "[[1. 0. 0. ... 0. 0. 0.]\n",
            " [1. 0. 0. ... 0. 0. 0.]\n",
            " [1. 0. 0. ... 0. 0. 0.]\n",
            " ...\n",
            " [0. 0. 0. ... 0. 0. 1.]\n",
            " [0. 0. 0. ... 0. 0. 1.]\n",
            " [0. 0. 0. ... 0. 0. 1.]]\n"
          ],
          "name": "stdout"
        }
      ]
    },
    {
      "cell_type": "code",
      "metadata": {
        "id": "Ri2tDiqX9Ci-"
      },
      "source": [
        "classes = 161\n",
        "y_test = np.eye(classes)[y_test_numpy]"
      ],
      "execution_count": null,
      "outputs": []
    },
    {
      "cell_type": "code",
      "metadata": {
        "id": "wLyF_nsN9Ci_"
      },
      "source": [
        "classes = 161\n",
        "y_validation = np.eye(classes)[y_validation_numpy]"
      ],
      "execution_count": null,
      "outputs": []
    },
    {
      "cell_type": "code",
      "metadata": {
        "id": "Hb9Bv8B29Ci_"
      },
      "source": [
        ""
      ],
      "execution_count": null,
      "outputs": []
    },
    {
      "cell_type": "markdown",
      "metadata": {
        "id": "t41h_YVG9CjA"
      },
      "source": [
        "# CrossCheck the Data"
      ]
    },
    {
      "cell_type": "code",
      "metadata": {
        "id": "ale4QDcV9CjB",
        "outputId": "b582baf8-9a89-4472-8b5e-ffde883f257e"
      },
      "source": [
        "plt.imshow(train_images[350])"
      ],
      "execution_count": null,
      "outputs": [
        {
          "output_type": "execute_result",
          "data": {
            "text/plain": [
              "<matplotlib.image.AxesImage at 0x23b8288deb8>"
            ]
          },
          "metadata": {
            "tags": []
          },
          "execution_count": 16
        },
        {
          "output_type": "display_data",
          "data": {
            "image/png": "[encoded data removed]",
            "text/plain": [
              "<Figure size 432x288 with 1 Axes>"
            ]
          },
          "metadata": {
            "tags": [],
            "needs_background": "light"
          }
        }
      ]
    },
    {
      "cell_type": "code",
      "metadata": {
        "id": "1pBYY8y29CjD",
        "outputId": "1ce1408a-a254-4612-d8f1-4fa9a77353ef"
      },
      "source": [
        "y_train[350]"
      ],
      "execution_count": null,
      "outputs": [
        {
          "output_type": "execute_result",
          "data": {
            "text/plain": [
              "array([0., 1., 0., 0., 0., 0., 0., 0., 0., 0., 0., 0., 0., 0., 0., 0., 0.,\n",
              "       0., 0., 0., 0., 0., 0., 0., 0., 0., 0., 0., 0., 0., 0., 0., 0., 0.,\n",
              "       0., 0., 0., 0., 0., 0., 0., 0., 0., 0., 0., 0., 0., 0., 0., 0., 0.,\n",
              "       0., 0., 0., 0., 0., 0., 0., 0., 0., 0., 0., 0., 0., 0., 0., 0., 0.,\n",
              "       0., 0., 0., 0., 0., 0., 0., 0., 0., 0., 0., 0., 0., 0., 0., 0., 0.,\n",
              "       0., 0., 0., 0., 0., 0., 0., 0., 0., 0., 0., 0., 0., 0., 0., 0., 0.,\n",
              "       0., 0., 0., 0., 0., 0., 0., 0., 0., 0., 0., 0., 0., 0., 0., 0., 0.,\n",
              "       0., 0., 0., 0., 0., 0., 0., 0., 0., 0., 0., 0., 0., 0., 0., 0., 0.,\n",
              "       0., 0., 0., 0., 0., 0., 0., 0., 0., 0., 0., 0., 0., 0., 0., 0., 0.,\n",
              "       0., 0., 0., 0., 0., 0., 0., 0.])"
            ]
          },
          "metadata": {
            "tags": []
          },
          "execution_count": 17
        }
      ]
    },
    {
      "cell_type": "markdown",
      "metadata": {
        "id": "e14J1fzN9CjE"
      },
      "source": [
        "# Pre-Processing Images"
      ]
    },
    {
      "cell_type": "code",
      "metadata": {
        "id": "WBxP9UTx9CjE"
      },
      "source": [
        "X_train = X_train[:]/255\n",
        "X_test = X_test[:]/255\n",
        "X_validation = X_validation[:]/255"
      ],
      "execution_count": null,
      "outputs": []
    },
    {
      "cell_type": "code",
      "metadata": {
        "id": "aHxc9gEZ9CjE",
        "outputId": "c467d47c-d1fc-4862-8031-d346c4503215"
      },
      "source": [
        "X_train.shape"
      ],
      "execution_count": null,
      "outputs": [
        {
          "output_type": "execute_result",
          "data": {
            "text/plain": [
              "(48300, 48, 64, 3)"
            ]
          },
          "metadata": {
            "tags": []
          },
          "execution_count": 15
        }
      ]
    },
    {
      "cell_type": "code",
      "metadata": {
        "id": "kLGyT2eI9CjF",
        "outputId": "a4b25419-a59d-4b89-9d67-0ee4c4d3b7c6"
      },
      "source": [
        "X_validation.shape"
      ],
      "execution_count": null,
      "outputs": [
        {
          "output_type": "execute_result",
          "data": {
            "text/plain": [
              "(16100, 48, 64, 3)"
            ]
          },
          "metadata": {
            "tags": []
          },
          "execution_count": 16
        }
      ]
    },
    {
      "cell_type": "code",
      "metadata": {
        "id": "n6akQPNS9CjH"
      },
      "source": [
        "#Reshape it to 2D\n",
        "X_train = X_train.reshape(48300, 48*64*3)\n",
        "X_test = X_test.reshape(16100, 48*64*3)\n",
        "X_validation = X_validation.reshape(16100, 48*64*3)"
      ],
      "execution_count": null,
      "outputs": []
    },
    {
      "cell_type": "code",
      "metadata": {
        "id": "y3C5k5yp9CjI"
      },
      "source": [
        "X_test.shape"
      ],
      "execution_count": null,
      "outputs": []
    },
    {
      "cell_type": "markdown",
      "metadata": {
        "id": "Ytul_QwT9CjI"
      },
      "source": [
        "# Random Forest (Model 2) "
      ]
    },
    {
      "cell_type": "code",
      "metadata": {
        "id": "eYbX0iQp9CjI",
        "outputId": "7d4e1f9d-c8d6-49ac-b46c-54bdf990beff"
      },
      "source": [
        "from sklearn.ensemble import RandomForestClassifier\n",
        "sw\n",
        "model2 = RandomForestClassifier(n_estimators = 200,criterion = 'entropy', random_state = 42 ) #(no of trees, random_state = set)\n",
        "model2.fit(X_train, y_train)\n"
      ],
      "execution_count": null,
      "outputs": [
        {
          "output_type": "execute_result",
          "data": {
            "text/plain": [
              "RandomForestClassifier(criterion='entropy', n_estimators=200, random_state=42)"
            ]
          },
          "metadata": {
            "tags": []
          },
          "execution_count": 13
        }
      ]
    },
    {
      "cell_type": "code",
      "metadata": {
        "id": "eyO6983E9CjK"
      },
      "source": [
        "pred_2 = model2.predict(X_validation)"
      ],
      "execution_count": null,
      "outputs": []
    },
    {
      "cell_type": "code",
      "metadata": {
        "id": "mJE8rskz9CjK",
        "outputId": "8ee304e9-9884-4ae1-f5fa-cdd6bc999930"
      },
      "source": [
        "from sklearn.metrics import confusion_matrix, accuracy_score, classification_report\n",
        "import pandas as pd\n",
        "\n",
        "errors_rate = abs(pred_2- y_validation)\n",
        "conf_max = confusion_matrix(y_validation.argmax(axis = 1), pred_2.argmax(axis = 1))\n",
        "model2_accuracy = accuracy_score(y_validation, pred_2)\n",
        "                                 \n",
        "def plot_confusion_matrix(conf_max):\n",
        "  class_names = np.array(y_train)\n",
        "  fig, ax = plt.subplots()\n",
        "  tick_marks = np.arange(len(class_names))\n",
        "  plt.xticks(tick_marks, class_names)\n",
        "  plt.yticks(tick_marks, class_names)\n",
        "\n",
        "  sns.heatmap(pd.DataFrame(conf_max), annot = True, cmap  ='YlGnBu', fmt='g')\n",
        "  ax.xaxis.set_label_position(\"top\")\n",
        "\n",
        "  plt.tight_layout()\n",
        "  plt.title(\"Confusion Matrix\")\n",
        "  plt.ylabel(\"Actual label\")\n",
        "  plt.xlabel(\"Predicted label\")\n",
        "\n",
        "print (\"MODEL 2 PERFORMANCE\")\n",
        "plot_confusion_matrix(conf_max)\n",
        "print(\"Confusion Matrix\\n\\n\",conf_max)\n",
        "print(classification_report(y_validation,pred_2))\n",
        "print(\"Accuracy : {:.2%}\".format(model2_accuracy))\n",
        "print (\"Error Rate :{:.6f} \".format(np.mean(errors_rate)))"
      ],
      "execution_count": null,
      "outputs": [
        {
          "output_type": "stream",
          "text": [
            "MODEL 2 PERFORMANCE\n"
          ],
          "name": "stdout"
        },
        {
          "output_type": "stream",
          "text": [
            "C:\\Users\\ee\\anaconda3\\envs\\random_forest\\lib\\site-packages\\matplotlib\\text.py:1165: FutureWarning: elementwise comparison failed; returning scalar instead, but in the future will perform elementwise comparison\n",
            "  if s != self._text:\n"
          ],
          "name": "stderr"
        },
        {
          "output_type": "stream",
          "text": [
            "Confusion Matrix\n",
            "\n",
            " [[100   0   0 ...   0   0   0]\n",
            " [ 17  83   0 ...   0   0   0]\n",
            " [ 26   0  74 ...   0   0   0]\n",
            " ...\n",
            " [ 95   0   0 ...   5   0   0]\n",
            " [ 97   0   0 ...   0   3   0]\n",
            " [ 99   0   0 ...   0   0   1]]\n"
          ],
          "name": "stdout"
        },
        {
          "output_type": "stream",
          "text": [
            "C:\\Users\\ee\\anaconda3\\envs\\random_forest\\lib\\site-packages\\sklearn\\metrics\\_classification.py:1245: UndefinedMetricWarning: Precision and F-score are ill-defined and being set to 0.0 in labels with no predicted samples. Use `zero_division` parameter to control this behavior.\n",
            "  _warn_prf(average, modifier, msg_start, len(result))\n",
            "C:\\Users\\ee\\anaconda3\\envs\\random_forest\\lib\\site-packages\\sklearn\\metrics\\_classification.py:1245: UndefinedMetricWarning: Precision and F-score are ill-defined and being set to 0.0 in samples with no predicted labels. Use `zero_division` parameter to control this behavior.\n",
            "  _warn_prf(average, modifier, msg_start, len(result))\n"
          ],
          "name": "stderr"
        },
        {
          "output_type": "stream",
          "text": [
            "              precision    recall  f1-score   support\n",
            "\n",
            "           0       1.00      0.71      0.83       100\n",
            "           1       1.00      0.83      0.91       100\n",
            "           2       1.00      0.74      0.85       100\n",
            "           3       1.00      0.88      0.94       100\n",
            "           4       1.00      0.89      0.94       100\n",
            "           5       1.00      0.44      0.61       100\n",
            "           6       1.00      0.22      0.36       100\n",
            "           7       1.00      0.36      0.53       100\n",
            "           8       1.00      0.23      0.37       100\n",
            "           9       1.00      0.03      0.06       100\n",
            "          10       1.00      0.18      0.31       100\n",
            "          11       1.00      0.39      0.56       100\n",
            "          12       1.00      0.02      0.04       100\n",
            "          13       1.00      0.09      0.17       100\n",
            "          14       1.00      0.75      0.86       100\n",
            "          15       1.00      0.21      0.35       100\n",
            "          16       1.00      0.02      0.04       100\n",
            "          17       1.00      0.29      0.45       100\n",
            "          18       1.00      0.87      0.93       100\n",
            "          19       1.00      0.83      0.91       100\n",
            "          20       1.00      0.94      0.97       100\n",
            "          21       0.00      0.00      0.00       100\n",
            "          22       1.00      0.43      0.60       100\n",
            "          23       1.00      0.36      0.53       100\n",
            "          24       1.00      0.24      0.39       100\n",
            "          25       1.00      0.70      0.82       100\n",
            "          26       1.00      0.38      0.55       100\n",
            "          27       1.00      0.99      0.99       100\n",
            "          28       1.00      0.74      0.85       100\n",
            "          29       0.00      0.00      0.00       100\n",
            "          30       1.00      1.00      1.00       100\n",
            "          31       1.00      0.31      0.47       100\n",
            "          32       1.00      1.00      1.00       100\n",
            "          33       1.00      0.71      0.83       100\n",
            "          34       1.00      0.08      0.15       100\n",
            "          35       0.00      0.00      0.00       100\n",
            "          36       1.00      0.28      0.44       100\n",
            "          37       1.00      0.21      0.35       100\n",
            "          38       1.00      0.03      0.06       100\n",
            "          39       0.00      0.00      0.00       100\n",
            "          40       1.00      0.59      0.74       100\n",
            "          41       1.00      0.96      0.98       100\n",
            "          42       1.00      0.80      0.89       100\n",
            "          43       1.00      0.30      0.46       100\n",
            "          44       1.00      0.49      0.66       100\n",
            "          45       1.00      0.14      0.25       100\n",
            "          46       1.00      0.75      0.86       100\n",
            "          47       1.00      0.03      0.06       100\n",
            "          48       1.00      0.94      0.97       100\n",
            "          49       1.00      0.60      0.75       100\n",
            "          50       0.00      0.00      0.00       100\n",
            "          51       1.00      0.03      0.06       100\n",
            "          52       1.00      0.13      0.23       100\n",
            "          53       1.00      0.02      0.04       100\n",
            "          54       0.00      0.00      0.00       100\n",
            "          55       1.00      0.06      0.11       100\n",
            "          56       1.00      0.07      0.13       100\n",
            "          57       0.00      0.00      0.00       100\n",
            "          58       0.00      0.00      0.00       100\n",
            "          59       1.00      0.01      0.02       100\n",
            "          60       1.00      0.24      0.39       100\n",
            "          61       1.00      0.25      0.40       100\n",
            "          62       1.00      0.35      0.52       100\n",
            "          63       1.00      0.30      0.46       100\n",
            "          64       1.00      0.75      0.86       100\n",
            "          65       1.00      0.01      0.02       100\n",
            "          66       1.00      0.71      0.83       100\n",
            "          67       1.00      0.69      0.82       100\n",
            "          68       1.00      0.04      0.08       100\n",
            "          69       1.00      0.43      0.60       100\n",
            "          70       0.00      0.00      0.00       100\n",
            "          71       1.00      0.09      0.17       100\n",
            "          72       1.00      0.11      0.20       100\n",
            "          73       1.00      0.97      0.98       100\n",
            "          74       1.00      0.82      0.90       100\n",
            "          75       1.00      0.62      0.77       100\n",
            "          76       1.00      0.13      0.23       100\n",
            "          77       1.00      0.44      0.61       100\n",
            "          78       1.00      0.74      0.85       100\n",
            "          79       1.00      0.03      0.06       100\n",
            "          80       1.00      0.95      0.97       100\n",
            "          81       1.00      0.62      0.77       100\n",
            "          82       1.00      0.61      0.76       100\n",
            "          83       1.00      0.87      0.93       100\n",
            "          84       1.00      0.05      0.10       100\n",
            "          85       1.00      0.35      0.52       100\n",
            "          86       1.00      0.22      0.36       100\n",
            "          87       1.00      0.27      0.43       100\n",
            "          88       1.00      0.47      0.64       100\n",
            "          89       1.00      0.14      0.25       100\n",
            "          90       1.00      0.89      0.94       100\n",
            "          91       1.00      0.53      0.69       100\n",
            "          92       0.00      0.00      0.00       100\n",
            "          93       1.00      0.91      0.95       100\n",
            "          94       1.00      0.16      0.28       100\n",
            "          95       1.00      0.01      0.02       100\n",
            "          96       1.00      0.16      0.28       100\n",
            "          97       1.00      0.89      0.94       100\n",
            "          98       1.00      0.79      0.88       100\n",
            "          99       1.00      0.34      0.51       100\n",
            "         100       1.00      0.24      0.39       100\n",
            "         101       1.00      0.29      0.45       100\n",
            "         102       1.00      0.66      0.80       100\n",
            "         103       1.00      0.20      0.33       100\n",
            "         104       1.00      0.48      0.65       100\n",
            "         105       1.00      0.08      0.15       100\n",
            "         106       1.00      0.67      0.80       100\n",
            "         107       1.00      0.10      0.18       100\n",
            "         108       1.00      0.45      0.62       100\n",
            "         109       1.00      0.16      0.28       100\n",
            "         110       1.00      0.34      0.51       100\n",
            "         111       1.00      0.81      0.90       100\n",
            "         112       1.00      0.51      0.68       100\n",
            "         113       1.00      0.50      0.67       100\n",
            "         114       1.00      0.08      0.15       100\n",
            "         115       1.00      0.93      0.96       100\n",
            "         116       1.00      0.17      0.29       100\n",
            "         117       1.00      0.31      0.47       100\n",
            "         118       1.00      0.38      0.55       100\n",
            "         119       1.00      0.93      0.96       100\n",
            "         120       1.00      0.16      0.28       100\n",
            "         121       1.00      0.11      0.20       100\n",
            "         122       1.00      0.78      0.88       100\n",
            "         123       1.00      0.12      0.21       100\n",
            "         124       1.00      0.19      0.32       100\n",
            "         125       1.00      0.34      0.51       100\n",
            "         126       1.00      0.06      0.11       100\n",
            "         127       1.00      0.86      0.92       100\n",
            "         128       1.00      0.01      0.02       100\n",
            "         129       1.00      0.85      0.92       100\n",
            "         130       1.00      0.01      0.02       100\n",
            "         131       1.00      0.50      0.67       100\n",
            "         132       1.00      0.58      0.73       100\n",
            "         133       1.00      0.23      0.37       100\n",
            "         134       1.00      0.83      0.91       100\n",
            "         135       1.00      0.45      0.62       100\n",
            "         136       1.00      0.29      0.45       100\n",
            "         137       1.00      0.25      0.40       100\n",
            "         138       1.00      0.23      0.37       100\n",
            "         139       1.00      0.44      0.61       100\n",
            "         140       1.00      0.03      0.06       100\n",
            "         141       1.00      0.40      0.57       100\n",
            "         142       1.00      0.05      0.10       100\n",
            "         143       1.00      0.45      0.62       100\n",
            "         144       1.00      0.41      0.58       100\n",
            "         145       0.00      0.00      0.00       100\n",
            "         146       1.00      0.59      0.74       100\n",
            "         147       1.00      0.08      0.15       100\n",
            "         148       1.00      0.87      0.93       100\n",
            "         149       0.00      0.00      0.00       100\n",
            "         150       1.00      0.92      0.96       100\n",
            "         151       1.00      0.19      0.32       100\n",
            "         152       1.00      0.26      0.41       100\n",
            "         153       1.00      0.58      0.73       100\n",
            "         154       1.00      0.03      0.06       100\n",
            "         155       0.98      0.62      0.76       100\n",
            "         156       1.00      0.11      0.20       100\n",
            "         157       1.00      0.96      0.98       100\n",
            "         158       1.00      0.05      0.10       100\n",
            "         159       1.00      0.03      0.06       100\n",
            "         160       1.00      0.01      0.02       100\n",
            "\n",
            "   micro avg       1.00      0.39      0.56     16100\n",
            "   macro avg       0.93      0.39      0.48     16100\n",
            "weighted avg       0.93      0.39      0.48     16100\n",
            " samples avg       0.39      0.39      0.39     16100\n",
            "\n",
            "Accuracy : 38.80%\n",
            "Error Rate :0.003802 \n"
          ],
          "name": "stdout"
        },
        {
          "output_type": "display_data",
          "data": {
            "image/png": "[encoded data removed]",
            "text/plain": [
              "<Figure size 432x288 with 2 Axes>"
            ]
          },
          "metadata": {
            "tags": [],
            "needs_background": "light"
          }
        }
      ]
    },
    {
      "cell_type": "code",
      "metadata": {
        "id": "Wb0PAQRw9CjL"
      },
      "source": [
        "pred_test = model2.predict(X_test)"
      ],
      "execution_count": null,
      "outputs": []
    },
    {
      "cell_type": "code",
      "metadata": {
        "id": "oPto4hL49JbD"
      },
      "source": [
        "from sklearn.metrics import confusion_matrix, accuracy_score, classification_report\r\n",
        "import pandas as pd\r\n",
        "\r\n",
        "errors_rate = abs(pred_test- y_test)\r\n",
        "conf_max = confusion_matrix(y_test.argmax(axis = 1), pred_test.argmax(axis = 1))\r\n",
        "model2_accuracy = accuracy_score(y_test, pred_test)\r\n",
        "                                 \r\n",
        "def plot_confusion_matrix(conf_max):\r\n",
        "  class_names = np.array(y_train)\r\n",
        "  fig, ax = plt.subplots()\r\n",
        "  tick_marks = np.arange(len(class_names))\r\n",
        "  plt.xticks(tick_marks, class_names)\r\n",
        "  plt.yticks(tick_marks, class_names)\r\n",
        "\r\n",
        "  sns.heatmap(pd.DataFrame(conf_max), annot = True, cmap  ='YlGnBu', fmt='g')\r\n",
        "  ax.xaxis.set_label_position(\"top\")\r\n",
        "\r\n",
        "  plt.tight_layout()\r\n",
        "  plt.title(\"Confusion Matrix\")\r\n",
        "  plt.ylabel(\"Actual label\")\r\n",
        "  plt.xlabel(\"Predicted label\")\r\n",
        "\r\n",
        "print (\"MODEL 2 PERFORMANCE\")\r\n",
        "plot_confusion_matrix(conf_max)\r\n",
        "print(\"Confusion Matrix\\n\\n\",conf_max)\r\n",
        "print(classification_report(y_test,pred_test))\r\n",
        "print(\"Accuracy : {:.2%}\".format(model2_accuracy))\r\n",
        "print (\"Error Rate :{:.6f} \".format(np.mean(errors_rate)))"
      ],
      "execution_count": null,
      "outputs": []
    }
  ]
}